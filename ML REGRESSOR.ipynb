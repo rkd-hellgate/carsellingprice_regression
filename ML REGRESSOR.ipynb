{
 "cells": [
  {
   "cell_type": "code",
   "execution_count": null,
   "metadata": {},
   "outputs": [],
   "source": [
    "import pandas as pd\n",
    "import numpy as np\n",
    "import matplotlib.pyplot as plt\n",
    "import seaborn as sns\n",
    "import warnings\n",
    "warnings.simplefilter(action='ignore')\n"
   ]
  },
  {
   "cell_type": "markdown",
   "metadata": {},
   "source": [
    "DATA COLLECTION AND PREPARATION"
   ]
  },
  {
   "cell_type": "code",
   "execution_count": null,
   "metadata": {},
   "outputs": [],
   "source": [
    "df= pd.read_csv('Car Dataset (1).csv')"
   ]
  },
  {
   "cell_type": "code",
   "execution_count": null,
   "metadata": {},
   "outputs": [
    {
     "data": {
      "text/html": [
       "<div>\n",
       "<style scoped>\n",
       "    .dataframe tbody tr th:only-of-type {\n",
       "        vertical-align: middle;\n",
       "    }\n",
       "\n",
       "    .dataframe tbody tr th {\n",
       "        vertical-align: top;\n",
       "    }\n",
       "\n",
       "    .dataframe thead th {\n",
       "        text-align: right;\n",
       "    }\n",
       "</style>\n",
       "<table border=\"1\" class=\"dataframe\">\n",
       "  <thead>\n",
       "    <tr style=\"text-align: right;\">\n",
       "      <th></th>\n",
       "      <th>name</th>\n",
       "      <th>year</th>\n",
       "      <th>selling_price</th>\n",
       "      <th>km_driven</th>\n",
       "      <th>fuel</th>\n",
       "      <th>seller_type</th>\n",
       "      <th>transmission</th>\n",
       "      <th>owner</th>\n",
       "    </tr>\n",
       "  </thead>\n",
       "  <tbody>\n",
       "    <tr>\n",
       "      <th>0</th>\n",
       "      <td>Maruti 800 AC</td>\n",
       "      <td>2007</td>\n",
       "      <td>60000</td>\n",
       "      <td>70000</td>\n",
       "      <td>Petrol</td>\n",
       "      <td>Individual</td>\n",
       "      <td>Manual</td>\n",
       "      <td>First Owner</td>\n",
       "    </tr>\n",
       "    <tr>\n",
       "      <th>1</th>\n",
       "      <td>Maruti Wagon R LXI Minor</td>\n",
       "      <td>2007</td>\n",
       "      <td>135000</td>\n",
       "      <td>50000</td>\n",
       "      <td>Petrol</td>\n",
       "      <td>Individual</td>\n",
       "      <td>Manual</td>\n",
       "      <td>First Owner</td>\n",
       "    </tr>\n",
       "    <tr>\n",
       "      <th>2</th>\n",
       "      <td>Hyundai Verna 1.6 SX</td>\n",
       "      <td>2012</td>\n",
       "      <td>600000</td>\n",
       "      <td>100000</td>\n",
       "      <td>Diesel</td>\n",
       "      <td>Individual</td>\n",
       "      <td>Manual</td>\n",
       "      <td>First Owner</td>\n",
       "    </tr>\n",
       "    <tr>\n",
       "      <th>3</th>\n",
       "      <td>Datsun RediGO T Option</td>\n",
       "      <td>2017</td>\n",
       "      <td>250000</td>\n",
       "      <td>46000</td>\n",
       "      <td>Petrol</td>\n",
       "      <td>Individual</td>\n",
       "      <td>Manual</td>\n",
       "      <td>First Owner</td>\n",
       "    </tr>\n",
       "    <tr>\n",
       "      <th>4</th>\n",
       "      <td>Honda Amaze VX i-DTEC</td>\n",
       "      <td>2014</td>\n",
       "      <td>450000</td>\n",
       "      <td>141000</td>\n",
       "      <td>Diesel</td>\n",
       "      <td>Individual</td>\n",
       "      <td>Manual</td>\n",
       "      <td>Second Owner</td>\n",
       "    </tr>\n",
       "  </tbody>\n",
       "</table>\n",
       "</div>"
      ],
      "text/plain": [
       "                       name  year  selling_price  km_driven    fuel  \\\n",
       "0             Maruti 800 AC  2007          60000      70000  Petrol   \n",
       "1  Maruti Wagon R LXI Minor  2007         135000      50000  Petrol   \n",
       "2      Hyundai Verna 1.6 SX  2012         600000     100000  Diesel   \n",
       "3    Datsun RediGO T Option  2017         250000      46000  Petrol   \n",
       "4     Honda Amaze VX i-DTEC  2014         450000     141000  Diesel   \n",
       "\n",
       "  seller_type transmission         owner  \n",
       "0  Individual       Manual   First Owner  \n",
       "1  Individual       Manual   First Owner  \n",
       "2  Individual       Manual   First Owner  \n",
       "3  Individual       Manual   First Owner  \n",
       "4  Individual       Manual  Second Owner  "
      ]
     },
     "execution_count": 221,
     "metadata": {},
     "output_type": "execute_result"
    }
   ],
   "source": [
    "df.head()"
   ]
  },
  {
   "cell_type": "code",
   "execution_count": null,
   "metadata": {},
   "outputs": [
    {
     "data": {
      "text/plain": [
       "(4340, 8)"
      ]
     },
     "execution_count": 222,
     "metadata": {},
     "output_type": "execute_result"
    }
   ],
   "source": [
    "df.shape"
   ]
  },
  {
   "cell_type": "code",
   "execution_count": null,
   "metadata": {},
   "outputs": [
    {
     "name": "stdout",
     "output_type": "stream",
     "text": [
      "<class 'pandas.core.frame.DataFrame'>\n",
      "RangeIndex: 4340 entries, 0 to 4339\n",
      "Data columns (total 8 columns):\n",
      " #   Column         Non-Null Count  Dtype \n",
      "---  ------         --------------  ----- \n",
      " 0   name           4340 non-null   object\n",
      " 1   year           4340 non-null   int64 \n",
      " 2   selling_price  4340 non-null   int64 \n",
      " 3   km_driven      4340 non-null   int64 \n",
      " 4   fuel           4340 non-null   object\n",
      " 5   seller_type    4340 non-null   object\n",
      " 6   transmission   4340 non-null   object\n",
      " 7   owner          4340 non-null   object\n",
      "dtypes: int64(3), object(5)\n",
      "memory usage: 271.4+ KB\n"
     ]
    }
   ],
   "source": [
    "df.info()"
   ]
  },
  {
   "cell_type": "code",
   "execution_count": null,
   "metadata": {},
   "outputs": [
    {
     "data": {
      "text/html": [
       "<div>\n",
       "<style scoped>\n",
       "    .dataframe tbody tr th:only-of-type {\n",
       "        vertical-align: middle;\n",
       "    }\n",
       "\n",
       "    .dataframe tbody tr th {\n",
       "        vertical-align: top;\n",
       "    }\n",
       "\n",
       "    .dataframe thead th {\n",
       "        text-align: right;\n",
       "    }\n",
       "</style>\n",
       "<table border=\"1\" class=\"dataframe\">\n",
       "  <thead>\n",
       "    <tr style=\"text-align: right;\">\n",
       "      <th></th>\n",
       "      <th>year</th>\n",
       "      <th>selling_price</th>\n",
       "      <th>km_driven</th>\n",
       "    </tr>\n",
       "  </thead>\n",
       "  <tbody>\n",
       "    <tr>\n",
       "      <th>count</th>\n",
       "      <td>4340.000000</td>\n",
       "      <td>4.340000e+03</td>\n",
       "      <td>4340.000000</td>\n",
       "    </tr>\n",
       "    <tr>\n",
       "      <th>mean</th>\n",
       "      <td>2013.090783</td>\n",
       "      <td>5.041273e+05</td>\n",
       "      <td>66215.777419</td>\n",
       "    </tr>\n",
       "    <tr>\n",
       "      <th>std</th>\n",
       "      <td>4.215344</td>\n",
       "      <td>5.785487e+05</td>\n",
       "      <td>46644.102194</td>\n",
       "    </tr>\n",
       "    <tr>\n",
       "      <th>min</th>\n",
       "      <td>1992.000000</td>\n",
       "      <td>2.000000e+04</td>\n",
       "      <td>1.000000</td>\n",
       "    </tr>\n",
       "    <tr>\n",
       "      <th>25%</th>\n",
       "      <td>2011.000000</td>\n",
       "      <td>2.087498e+05</td>\n",
       "      <td>35000.000000</td>\n",
       "    </tr>\n",
       "    <tr>\n",
       "      <th>50%</th>\n",
       "      <td>2014.000000</td>\n",
       "      <td>3.500000e+05</td>\n",
       "      <td>60000.000000</td>\n",
       "    </tr>\n",
       "    <tr>\n",
       "      <th>75%</th>\n",
       "      <td>2016.000000</td>\n",
       "      <td>6.000000e+05</td>\n",
       "      <td>90000.000000</td>\n",
       "    </tr>\n",
       "    <tr>\n",
       "      <th>max</th>\n",
       "      <td>2020.000000</td>\n",
       "      <td>8.900000e+06</td>\n",
       "      <td>806599.000000</td>\n",
       "    </tr>\n",
       "  </tbody>\n",
       "</table>\n",
       "</div>"
      ],
      "text/plain": [
       "              year  selling_price      km_driven\n",
       "count  4340.000000   4.340000e+03    4340.000000\n",
       "mean   2013.090783   5.041273e+05   66215.777419\n",
       "std       4.215344   5.785487e+05   46644.102194\n",
       "min    1992.000000   2.000000e+04       1.000000\n",
       "25%    2011.000000   2.087498e+05   35000.000000\n",
       "50%    2014.000000   3.500000e+05   60000.000000\n",
       "75%    2016.000000   6.000000e+05   90000.000000\n",
       "max    2020.000000   8.900000e+06  806599.000000"
      ]
     },
     "execution_count": 224,
     "metadata": {},
     "output_type": "execute_result"
    }
   ],
   "source": [
    "df.describe()"
   ]
  },
  {
   "cell_type": "code",
   "execution_count": null,
   "metadata": {},
   "outputs": [
    {
     "data": {
      "text/plain": [
       "name             0\n",
       "year             0\n",
       "selling_price    0\n",
       "km_driven        0\n",
       "fuel             0\n",
       "seller_type      0\n",
       "transmission     0\n",
       "owner            0\n",
       "dtype: int64"
      ]
     },
     "execution_count": 225,
     "metadata": {},
     "output_type": "execute_result"
    }
   ],
   "source": [
    "df.isna().sum()\n"
   ]
  },
  {
   "cell_type": "code",
   "execution_count": null,
   "metadata": {},
   "outputs": [
    {
     "data": {
      "text/plain": [
       "<bound method Series.sum of 0       False\n",
       "1       False\n",
       "2       False\n",
       "3       False\n",
       "4       False\n",
       "        ...  \n",
       "4335    False\n",
       "4336    False\n",
       "4337    False\n",
       "4338    False\n",
       "4339    False\n",
       "Length: 4340, dtype: bool>"
      ]
     },
     "execution_count": 226,
     "metadata": {},
     "output_type": "execute_result"
    }
   ],
   "source": [
    "df.duplicated().sum"
   ]
  },
  {
   "cell_type": "code",
   "execution_count": null,
   "metadata": {},
   "outputs": [],
   "source": [
    "df['Age'] = 2024 - df['year']\n",
    "df.drop('year',axis=1,inplace = True)"
   ]
  },
  {
   "cell_type": "code",
   "execution_count": null,
   "metadata": {},
   "outputs": [
    {
     "data": {
      "text/plain": [
       "array(['First Owner', 'Second Owner', 'Fourth & Above Owner',\n",
       "       'Third Owner', 'Test Drive Car'], dtype=object)"
      ]
     },
     "execution_count": 228,
     "metadata": {},
     "output_type": "execute_result"
    }
   ],
   "source": [
    "df[\"owner\"].unique()"
   ]
  },
  {
   "cell_type": "code",
   "execution_count": null,
   "metadata": {},
   "outputs": [
    {
     "data": {
      "text/plain": [
       "Index(['name', 'selling_price', 'km_driven', 'fuel', 'seller_type',\n",
       "       'transmission', 'owner', 'Age'],\n",
       "      dtype='object')"
      ]
     },
     "execution_count": 229,
     "metadata": {},
     "output_type": "execute_result"
    }
   ],
   "source": [
    "df.columns"
   ]
  },
  {
   "cell_type": "code",
   "execution_count": null,
   "metadata": {},
   "outputs": [],
   "source": [
    "mapping_dict = {\"First Owner\": 'one', \"Second Owner\": 'two', \"Third Owner\": 'three', \"Fourth & Above Owner\": 'four', \"Test Drive Car\": 'test car'}\n",
    "df['owner'] = df['owner'].map(mapping_dict)"
   ]
  },
  {
   "cell_type": "markdown",
   "metadata": {},
   "source": [
    "DATA VISUALIZATIONS"
   ]
  },
  {
   "cell_type": "code",
   "execution_count": null,
   "metadata": {},
   "outputs": [
    {
     "data": {
      "image/png": "[encoded data removed]",
      "text/plain": [
       "<Figure size 1000x400 with 2 Axes>"
      ]
     },
     "metadata": {},
     "output_type": "display_data"
    },
    {
     "data": {
      "image/png": "[encoded data removed]",
      "text/plain": [
       "<Figure size 1000x400 with 2 Axes>"
      ]
     },
     "metadata": {},
     "output_type": "display_data"
    }
   ],
   "source": [
    "cat_cols = ['fuel','seller_type','transmission',\"owner\"]\n",
    "i=0\n",
    "while i < 3:\n",
    "    fig = plt.figure(figsize=[10,4])\n",
    "\n",
    "    plt.subplot(1,2,1)\n",
    "    sns.countplot(x=cat_cols[i], data=df)\n",
    "    i += 1\n",
    "\n",
    "    plt.subplot(1,2,2)\n",
    "    sns.countplot(x=cat_cols[i], data=df)\n",
    "    i += 1\n",
    "    \n",
    "    plt.show()"
   ]
  },
  {
   "cell_type": "code",
   "execution_count": null,
   "metadata": {},
   "outputs": [
    {
     "data": {
      "text/html": [
       "<div>\n",
       "<style scoped>\n",
       "    .dataframe tbody tr th:only-of-type {\n",
       "        vertical-align: middle;\n",
       "    }\n",
       "\n",
       "    .dataframe tbody tr th {\n",
       "        vertical-align: top;\n",
       "    }\n",
       "\n",
       "    .dataframe thead th {\n",
       "        text-align: right;\n",
       "    }\n",
       "</style>\n",
       "<table border=\"1\" class=\"dataframe\">\n",
       "  <thead>\n",
       "    <tr style=\"text-align: right;\">\n",
       "      <th></th>\n",
       "      <th>name</th>\n",
       "      <th>selling_price</th>\n",
       "      <th>km_driven</th>\n",
       "      <th>fuel</th>\n",
       "      <th>seller_type</th>\n",
       "      <th>transmission</th>\n",
       "      <th>owner</th>\n",
       "      <th>Age</th>\n",
       "    </tr>\n",
       "  </thead>\n",
       "  <tbody>\n",
       "    <tr>\n",
       "      <th>0</th>\n",
       "      <td>Maruti 800 AC</td>\n",
       "      <td>60000</td>\n",
       "      <td>70000</td>\n",
       "      <td>Petrol</td>\n",
       "      <td>Individual</td>\n",
       "      <td>Manual</td>\n",
       "      <td>one</td>\n",
       "      <td>17</td>\n",
       "    </tr>\n",
       "    <tr>\n",
       "      <th>1</th>\n",
       "      <td>Maruti Wagon R LXI Minor</td>\n",
       "      <td>135000</td>\n",
       "      <td>50000</td>\n",
       "      <td>Petrol</td>\n",
       "      <td>Individual</td>\n",
       "      <td>Manual</td>\n",
       "      <td>one</td>\n",
       "      <td>17</td>\n",
       "    </tr>\n",
       "    <tr>\n",
       "      <th>2</th>\n",
       "      <td>Hyundai Verna 1.6 SX</td>\n",
       "      <td>600000</td>\n",
       "      <td>100000</td>\n",
       "      <td>Diesel</td>\n",
       "      <td>Individual</td>\n",
       "      <td>Manual</td>\n",
       "      <td>one</td>\n",
       "      <td>12</td>\n",
       "    </tr>\n",
       "    <tr>\n",
       "      <th>3</th>\n",
       "      <td>Datsun RediGO T Option</td>\n",
       "      <td>250000</td>\n",
       "      <td>46000</td>\n",
       "      <td>Petrol</td>\n",
       "      <td>Individual</td>\n",
       "      <td>Manual</td>\n",
       "      <td>one</td>\n",
       "      <td>7</td>\n",
       "    </tr>\n",
       "    <tr>\n",
       "      <th>4</th>\n",
       "      <td>Honda Amaze VX i-DTEC</td>\n",
       "      <td>450000</td>\n",
       "      <td>141000</td>\n",
       "      <td>Diesel</td>\n",
       "      <td>Individual</td>\n",
       "      <td>Manual</td>\n",
       "      <td>two</td>\n",
       "      <td>10</td>\n",
       "    </tr>\n",
       "  </tbody>\n",
       "</table>\n",
       "</div>"
      ],
      "text/plain": [
       "                       name  selling_price  km_driven    fuel seller_type  \\\n",
       "0             Maruti 800 AC          60000      70000  Petrol  Individual   \n",
       "1  Maruti Wagon R LXI Minor         135000      50000  Petrol  Individual   \n",
       "2      Hyundai Verna 1.6 SX         600000     100000  Diesel  Individual   \n",
       "3    Datsun RediGO T Option         250000      46000  Petrol  Individual   \n",
       "4     Honda Amaze VX i-DTEC         450000     141000  Diesel  Individual   \n",
       "\n",
       "  transmission owner  Age  \n",
       "0       Manual   one   17  \n",
       "1       Manual   one   17  \n",
       "2       Manual   one   12  \n",
       "3       Manual   one    7  \n",
       "4       Manual   two   10  "
      ]
     },
     "execution_count": 232,
     "metadata": {},
     "output_type": "execute_result"
    }
   ],
   "source": [
    "df.head()"
   ]
  },
  {
   "cell_type": "code",
   "execution_count": null,
   "metadata": {},
   "outputs": [
    {
     "data": {
      "text/plain": [
       "np.int64(8900000)"
      ]
     },
     "execution_count": 233,
     "metadata": {},
     "output_type": "execute_result"
    }
   ],
   "source": [
    "df[\"selling_price\"].max()"
   ]
  },
  {
   "cell_type": "code",
   "execution_count": null,
   "metadata": {},
   "outputs": [
    {
     "data": {
      "image/png": "[encoded data removed]",
      "text/plain": [
       "<Figure size 1300x300 with 1 Axes>"
      ]
     },
     "metadata": {},
     "output_type": "display_data"
    },
    {
     "data": {
      "image/png": "[encoded data removed]",
      "text/plain": [
       "<Figure size 1300x300 with 1 Axes>"
      ]
     },
     "metadata": {},
     "output_type": "display_data"
    },
    {
     "data": {
      "image/png": "[encoded data removed]",
      "text/plain": [
       "<Figure size 1300x300 with 1 Axes>"
      ]
     },
     "metadata": {},
     "output_type": "display_data"
    }
   ],
   "source": [
    "num_cols = ['selling_price','km_driven','Age']\n",
    "i=0\n",
    "while i < 3:\n",
    "    fig = plt.figure(figsize=[13,3])\n",
    "    sns.boxplot(x=num_cols[i], data=df)\n",
    "    i += 1\n",
    "    plt.show()\n"
   ]
  },
  {
   "cell_type": "code",
   "execution_count": null,
   "metadata": {},
   "outputs": [
    {
     "data": {
      "text/html": [
       "<div>\n",
       "<style scoped>\n",
       "    .dataframe tbody tr th:only-of-type {\n",
       "        vertical-align: middle;\n",
       "    }\n",
       "\n",
       "    .dataframe tbody tr th {\n",
       "        vertical-align: top;\n",
       "    }\n",
       "\n",
       "    .dataframe thead th {\n",
       "        text-align: right;\n",
       "    }\n",
       "</style>\n",
       "<table border=\"1\" class=\"dataframe\">\n",
       "  <thead>\n",
       "    <tr style=\"text-align: right;\">\n",
       "      <th></th>\n",
       "      <th>name</th>\n",
       "      <th>selling_price</th>\n",
       "      <th>km_driven</th>\n",
       "      <th>fuel</th>\n",
       "      <th>seller_type</th>\n",
       "      <th>transmission</th>\n",
       "      <th>owner</th>\n",
       "      <th>Age</th>\n",
       "    </tr>\n",
       "  </thead>\n",
       "  <tbody>\n",
       "    <tr>\n",
       "      <th>0</th>\n",
       "      <td>Maruti 800 AC</td>\n",
       "      <td>60000</td>\n",
       "      <td>70000</td>\n",
       "      <td>Petrol</td>\n",
       "      <td>Individual</td>\n",
       "      <td>Manual</td>\n",
       "      <td>one</td>\n",
       "      <td>17</td>\n",
       "    </tr>\n",
       "    <tr>\n",
       "      <th>1</th>\n",
       "      <td>Maruti Wagon R LXI Minor</td>\n",
       "      <td>135000</td>\n",
       "      <td>50000</td>\n",
       "      <td>Petrol</td>\n",
       "      <td>Individual</td>\n",
       "      <td>Manual</td>\n",
       "      <td>one</td>\n",
       "      <td>17</td>\n",
       "    </tr>\n",
       "    <tr>\n",
       "      <th>2</th>\n",
       "      <td>Hyundai Verna 1.6 SX</td>\n",
       "      <td>600000</td>\n",
       "      <td>100000</td>\n",
       "      <td>Diesel</td>\n",
       "      <td>Individual</td>\n",
       "      <td>Manual</td>\n",
       "      <td>one</td>\n",
       "      <td>12</td>\n",
       "    </tr>\n",
       "    <tr>\n",
       "      <th>3</th>\n",
       "      <td>Datsun RediGO T Option</td>\n",
       "      <td>250000</td>\n",
       "      <td>46000</td>\n",
       "      <td>Petrol</td>\n",
       "      <td>Individual</td>\n",
       "      <td>Manual</td>\n",
       "      <td>one</td>\n",
       "      <td>7</td>\n",
       "    </tr>\n",
       "    <tr>\n",
       "      <th>4</th>\n",
       "      <td>Honda Amaze VX i-DTEC</td>\n",
       "      <td>450000</td>\n",
       "      <td>141000</td>\n",
       "      <td>Diesel</td>\n",
       "      <td>Individual</td>\n",
       "      <td>Manual</td>\n",
       "      <td>two</td>\n",
       "      <td>10</td>\n",
       "    </tr>\n",
       "  </tbody>\n",
       "</table>\n",
       "</div>"
      ],
      "text/plain": [
       "                       name  selling_price  km_driven    fuel seller_type  \\\n",
       "0             Maruti 800 AC          60000      70000  Petrol  Individual   \n",
       "1  Maruti Wagon R LXI Minor         135000      50000  Petrol  Individual   \n",
       "2      Hyundai Verna 1.6 SX         600000     100000  Diesel  Individual   \n",
       "3    Datsun RediGO T Option         250000      46000  Petrol  Individual   \n",
       "4     Honda Amaze VX i-DTEC         450000     141000  Diesel  Individual   \n",
       "\n",
       "  transmission owner  Age  \n",
       "0       Manual   one   17  \n",
       "1       Manual   one   17  \n",
       "2       Manual   one   12  \n",
       "3       Manual   one    7  \n",
       "4       Manual   two   10  "
      ]
     },
     "execution_count": 235,
     "metadata": {},
     "output_type": "execute_result"
    }
   ],
   "source": [
    "df.head()"
   ]
  },
  {
   "cell_type": "markdown",
   "metadata": {},
   "source": [
    "DATA PREPROCESSING"
   ]
  },
  {
   "cell_type": "code",
   "execution_count": null,
   "metadata": {},
   "outputs": [],
   "source": [
    "import numpy as np\n",
    "df['selling_price'] = np.log1p(df['selling_price'])\n"
   ]
  },
  {
   "cell_type": "code",
   "execution_count": null,
   "metadata": {},
   "outputs": [],
   "source": [
    "from sklearn.compose import ColumnTransformer\n",
    "from sklearn.pipeline import Pipeline\n",
    "from sklearn.preprocessing import StandardScaler, OneHotEncoder\n",
    "from sklearn.model_selection import train_test_split\n",
    "\n",
    "X = df.drop(columns=['selling_price', 'name'])\n",
    "y = df['selling_price']\n",
    "\n",
    "X_train, X_test, y_train, y_test = train_test_split(X, y, test_size=0.2, random_state=42)\n",
    "numeric_features = ['km_driven', 'Age']\n",
    "numeric_transformer = Pipeline(steps=[\n",
    "    ('scaler', StandardScaler())\n",
    "])\n",
    "\n",
    "categorical_features = ['fuel', 'seller_type', 'transmission', 'owner']\n",
    "categorical_transformer = Pipeline(steps=[\n",
    "    ('onehot', OneHotEncoder(handle_unknown='ignore'))\n",
    "])\n",
    "\n",
    "preprocessor = ColumnTransformer(\n",
    "    transformers=[\n",
    "        ('num', numeric_transformer, numeric_features),\n",
    "        ('cat', categorical_transformer, categorical_features)\n",
    "    ])\n",
    "\n",
    "X_train_processed = preprocessor.fit_transform(X_train)\n",
    "X_test_processed = preprocessor.transform(X_test)\n"
   ]
  },
  {
   "cell_type": "markdown",
   "metadata": {},
   "source": [
    "RIDGE REGRESSION WITH OPTUNA"
   ]
  },
  {
   "cell_type": "code",
   "execution_count": null,
   "metadata": {},
   "outputs": [
    {
     "name": "stderr",
     "output_type": "stream",
     "text": [
      "[I 2024-07-01 15:45:22,797] A new study created in memory with name: no-name-bc68f2b0-a4ad-4f35-9b02-f27949504cb7\n",
      "[I 2024-07-01 15:45:22,911] Trial 0 finished with value: 0.6869521215426229 and parameters: {'alpha': 5.739449996257935}. Best is trial 0 with value: 0.6869521215426229.\n",
      "[I 2024-07-01 15:45:22,989] Trial 1 finished with value: 0.6869117790083729 and parameters: {'alpha': 0.20111958871832564}. Best is trial 0 with value: 0.6869521215426229.\n",
      "[I 2024-07-01 15:45:23,044] Trial 2 finished with value: 0.6869276902007998 and parameters: {'alpha': 7.600467760466205}. Best is trial 0 with value: 0.6869521215426229.\n",
      "[I 2024-07-01 15:45:23,089] Trial 3 finished with value: 0.686955768112222 and parameters: {'alpha': 5.324161249006602}. Best is trial 3 with value: 0.686955768112222.\n",
      "[I 2024-07-01 15:45:23,144] Trial 4 finished with value: 0.6869202688883609 and parameters: {'alpha': 0.4747550534034456}. Best is trial 3 with value: 0.686955768112222.\n",
      "[I 2024-07-01 15:45:23,198] Trial 5 finished with value: 0.6869503831451867 and parameters: {'alpha': 5.913115833860811}. Best is trial 3 with value: 0.686955768112222.\n",
      "[I 2024-07-01 15:45:23,261] Trial 6 finished with value: 0.6869384125681012 and parameters: {'alpha': 1.2101836633877814}. Best is trial 3 with value: 0.686955768112222.\n",
      "[I 2024-07-01 15:45:23,306] Trial 7 finished with value: 0.6868815285871279 and parameters: {'alpha': 9.961211367896832}. Best is trial 3 with value: 0.686955768112222.\n",
      "[I 2024-07-01 15:45:23,368] Trial 8 finished with value: 0.6869431585595687 and parameters: {'alpha': 6.5376731871748195}. Best is trial 3 with value: 0.686955768112222.\n",
      "[I 2024-07-01 15:45:23,415] Trial 9 finished with value: 0.6869554951644478 and parameters: {'alpha': 5.358450689420648}. Best is trial 3 with value: 0.686955768112222.\n",
      "[I 2024-07-01 15:45:23,479] Trial 10 finished with value: 0.686960014558955 and parameters: {'alpha': 2.957486797619563}. Best is trial 10 with value: 0.686960014558955.\n",
      "[I 2024-07-01 15:45:23,546] Trial 11 finished with value: 0.6869601727866219 and parameters: {'alpha': 2.9878681416254715}. Best is trial 11 with value: 0.6869601727866219.\n",
      "[I 2024-07-01 15:45:23,606] Trial 12 finished with value: 0.6869594708420966 and parameters: {'alpha': 2.861336965873095}. Best is trial 11 with value: 0.6869601727866219.\n",
      "[I 2024-07-01 15:45:23,668] Trial 13 finished with value: 0.6869594995112053 and parameters: {'alpha': 2.8661308155968466}. Best is trial 11 with value: 0.6869601727866219.\n",
      "[I 2024-07-01 15:45:23,731] Trial 14 finished with value: 0.6869620544958526 and parameters: {'alpha': 3.610772932418489}. Best is trial 14 with value: 0.6869620544958526.\n",
      "[I 2024-07-01 15:45:23,778] Trial 15 finished with value: 0.6869621175759855 and parameters: {'alpha': 3.873249119166169}. Best is trial 15 with value: 0.6869621175759855.\n",
      "[I 2024-07-01 15:45:23,846] Trial 16 finished with value: 0.686961883735559 and parameters: {'alpha': 4.0805335160506}. Best is trial 15 with value: 0.6869621175759855.\n",
      "[I 2024-07-01 15:45:23,922] Trial 17 finished with value: 0.6869617543015616 and parameters: {'alpha': 4.1485869950650995}. Best is trial 15 with value: 0.6869621175759855.\n",
      "[I 2024-07-01 15:45:23,970] Trial 18 finished with value: 0.6869454537798758 and parameters: {'alpha': 1.5908031861481144}. Best is trial 15 with value: 0.6869621175759855.\n",
      "[I 2024-07-01 15:45:24,033] Trial 19 finished with value: 0.6869253195111756 and parameters: {'alpha': 7.744148423718716}. Best is trial 15 with value: 0.6869621175759855.\n",
      "[I 2024-07-01 15:45:24,101] Trial 20 finished with value: 0.6869618027410391 and parameters: {'alpha': 4.124653335274865}. Best is trial 15 with value: 0.6869621175759855.\n",
      "[I 2024-07-01 15:45:24,162] Trial 21 finished with value: 0.6869617326012747 and parameters: {'alpha': 4.1588330909353735}. Best is trial 15 with value: 0.6869621175759855.\n",
      "[I 2024-07-01 15:45:24,239] Trial 22 finished with value: 0.686951376692835 and parameters: {'alpha': 1.9934641197035863}. Best is trial 15 with value: 0.6869621175759855.\n",
      "[I 2024-07-01 15:45:24,287] Trial 23 finished with value: 0.6869608347930225 and parameters: {'alpha': 4.462006249695351}. Best is trial 15 with value: 0.6869621175759855.\n",
      "[I 2024-07-01 15:45:24,349] Trial 24 finished with value: 0.6869621223409098 and parameters: {'alpha': 3.7004318849929767}. Best is trial 24 with value: 0.6869621223409098.\n",
      "[I 2024-07-01 15:45:24,412] Trial 25 finished with value: 0.6869617520442027 and parameters: {'alpha': 3.4230667949633737}. Best is trial 24 with value: 0.6869621223409098.\n",
      "[I 2024-07-01 15:45:24,478] Trial 26 finished with value: 0.686940167494895 and parameters: {'alpha': 6.765286955889319}. Best is trial 24 with value: 0.6869621223409098.\n",
      "[I 2024-07-01 15:45:24,538] Trial 27 finished with value: 0.6869549545248372 and parameters: {'alpha': 2.3029445846598637}. Best is trial 24 with value: 0.6869621223409098.\n",
      "[I 2024-07-01 15:45:24,601] Trial 28 finished with value: 0.6869591525630393 and parameters: {'alpha': 4.822084632052642}. Best is trial 24 with value: 0.6869621223409098.\n",
      "[I 2024-07-01 15:45:24,663] Trial 29 finished with value: 0.6869506031926713 and parameters: {'alpha': 5.8917890203794006}. Best is trial 24 with value: 0.6869621223409098.\n",
      "[I 2024-07-01 15:45:24,728] Trial 30 finished with value: 0.6869619835987043 and parameters: {'alpha': 3.552156197701245}. Best is trial 24 with value: 0.6869621223409098.\n",
      "[I 2024-07-01 15:45:24,790] Trial 31 finished with value: 0.686961568185871 and parameters: {'alpha': 3.3477655007915996}. Best is trial 24 with value: 0.6869621223409098.\n",
      "[I 2024-07-01 15:45:24,854] Trial 32 finished with value: 0.6869620610770931 and parameters: {'alpha': 3.617292496913262}. Best is trial 24 with value: 0.6869621223409098.\n",
      "[I 2024-07-01 15:45:24,920] Trial 33 finished with value: 0.686955010292192 and parameters: {'alpha': 2.308387134040249}. Best is trial 24 with value: 0.6869621223409098.\n",
      "[I 2024-07-01 15:45:24,983] Trial 34 finished with value: 0.6869590810027233 and parameters: {'alpha': 4.8348782948558835}. Best is trial 24 with value: 0.6869621223409098.\n",
      "[I 2024-07-01 15:45:25,049] Trial 35 finished with value: 0.6869619881043513 and parameters: {'alpha': 3.555420634218941}. Best is trial 24 with value: 0.6869621223409098.\n",
      "[I 2024-07-01 15:45:25,181] Trial 36 finished with value: 0.6869372489627226 and parameters: {'alpha': 1.1541533547352896}. Best is trial 24 with value: 0.6869621223409098.\n",
      "[I 2024-07-01 15:45:25,244] Trial 37 finished with value: 0.6869229125463222 and parameters: {'alpha': 0.5672778292522782}. Best is trial 24 with value: 0.6869621223409098.\n",
      "[I 2024-07-01 15:45:25,311] Trial 38 finished with value: 0.6869558952075802 and parameters: {'alpha': 5.307967939598594}. Best is trial 24 with value: 0.6869621223409098.\n",
      "[I 2024-07-01 15:45:25,391] Trial 39 finished with value: 0.6869441582693372 and parameters: {'alpha': 6.458270921147891}. Best is trial 24 with value: 0.6869621223409098.\n",
      "[I 2024-07-01 15:45:25,456] Trial 40 finished with value: 0.6869555299033107 and parameters: {'alpha': 2.3602750474718546}. Best is trial 24 with value: 0.6869621223409098.\n",
      "[I 2024-07-01 15:45:25,519] Trial 41 finished with value: 0.6869620920298336 and parameters: {'alpha': 3.652362175891451}. Best is trial 24 with value: 0.6869621223409098.\n",
      "[I 2024-07-01 15:45:25,566] Trial 42 finished with value: 0.6869621394588379 and parameters: {'alpha': 3.8117035304859863}. Best is trial 42 with value: 0.6869621394588379.\n",
      "[I 2024-07-01 15:45:25,628] Trial 43 finished with value: 0.6869599673596744 and parameters: {'alpha': 4.664732678985122}. Best is trial 42 with value: 0.6869621394588379.\n",
      "[I 2024-07-01 15:45:25,691] Trial 44 finished with value: 0.6869567103462598 and parameters: {'alpha': 5.200325159379827}. Best is trial 42 with value: 0.6869621394588379.\n",
      "[I 2024-07-01 15:45:25,765] Trial 45 finished with value: 0.6869621417870105 and parameters: {'alpha': 3.7917930530252444}. Best is trial 45 with value: 0.6869621417870105.\n",
      "[I 2024-07-01 15:45:25,823] Trial 46 finished with value: 0.686960163630515 and parameters: {'alpha': 2.9860756416968104}. Best is trial 45 with value: 0.6869621417870105.\n",
      "[I 2024-07-01 15:45:25,887] Trial 47 finished with value: 0.6868837580020989 and parameters: {'alpha': 9.861663332946055}. Best is trial 45 with value: 0.6869621417870105.\n",
      "[I 2024-07-01 15:45:25,949] Trial 48 finished with value: 0.6869612959574853 and parameters: {'alpha': 4.3266853236307}. Best is trial 45 with value: 0.6869621417870105.\n",
      "[I 2024-07-01 15:45:26,012] Trial 49 finished with value: 0.6869621183117541 and parameters: {'alpha': 3.871863092728293}. Best is trial 45 with value: 0.6869621417870105.\n",
      "[I 2024-07-01 15:45:26,059] Trial 50 finished with value: 0.6869541019351724 and parameters: {'alpha': 5.524376188653577}. Best is trial 45 with value: 0.6869621417870105.\n",
      "[I 2024-07-01 15:45:26,127] Trial 51 finished with value: 0.6869621228310286 and parameters: {'alpha': 3.86283552562464}. Best is trial 45 with value: 0.6869621417870105.\n",
      "[I 2024-07-01 15:45:26,204] Trial 52 finished with value: 0.6869620970265542 and parameters: {'alpha': 3.9058985105721225}. Best is trial 45 with value: 0.6869621417870105.\n",
      "[I 2024-07-01 15:45:26,251] Trial 53 finished with value: 0.6869571935384388 and parameters: {'alpha': 2.5435309368402446}. Best is trial 45 with value: 0.6869621417870105.\n",
      "[I 2024-07-01 15:45:26,314] Trial 54 finished with value: 0.686960866442041 and parameters: {'alpha': 3.139368176052224}. Best is trial 45 with value: 0.6869621417870105.\n",
      "[I 2024-07-01 15:45:26,376] Trial 55 finished with value: 0.6869604854388867 and parameters: {'alpha': 4.549640987588617}. Best is trial 45 with value: 0.6869621417870105.\n",
      "[I 2024-07-01 15:45:26,457] Trial 56 finished with value: 0.6869620584760858 and parameters: {'alpha': 3.9510645852229875}. Best is trial 45 with value: 0.6869621417870105.\n",
      "[I 2024-07-01 15:45:26,524] Trial 57 finished with value: 0.6869581754141995 and parameters: {'alpha': 2.668032041524576}. Best is trial 45 with value: 0.6869621417870105.\n",
      "[I 2024-07-01 15:45:26,595] Trial 58 finished with value: 0.6869474617381879 and parameters: {'alpha': 1.716348612278622}. Best is trial 45 with value: 0.6869621417870105.\n",
      "[I 2024-07-01 15:45:26,660] Trial 59 finished with value: 0.6869576815240246 and parameters: {'alpha': 5.061894241535729}. Best is trial 45 with value: 0.6869621417870105.\n",
      "[I 2024-07-01 15:45:26,723] Trial 60 finished with value: 0.6869611226300079 and parameters: {'alpha': 3.2061435771213334}. Best is trial 45 with value: 0.6869621417870105.\n",
      "[I 2024-07-01 15:45:26,775] Trial 61 finished with value: 0.6869620960032681 and parameters: {'alpha': 3.9073045642223345}. Best is trial 45 with value: 0.6869621417870105.\n",
      "[I 2024-07-01 15:45:26,849] Trial 62 finished with value: 0.6869620360370936 and parameters: {'alpha': 3.9725527898635207}. Best is trial 45 with value: 0.6869621417870105.\n",
      "[I 2024-07-01 15:45:26,908] Trial 63 finished with value: 0.6869606558476202 and parameters: {'alpha': 4.508126367965762}. Best is trial 45 with value: 0.6869621417870105.\n",
      "[I 2024-07-01 15:45:26,970] Trial 64 finished with value: 0.6869621319545279 and parameters: {'alpha': 3.723519226289686}. Best is trial 45 with value: 0.6869621417870105.\n",
      "[I 2024-07-01 15:45:27,025] Trial 65 finished with value: 0.6869614847571638 and parameters: {'alpha': 3.317765071133895}. Best is trial 45 with value: 0.6869621417870105.\n",
      "[I 2024-07-01 15:45:27,093] Trial 66 finished with value: 0.6869613725215922 and parameters: {'alpha': 4.301023265406598}. Best is trial 45 with value: 0.6869621417870105.\n",
      "[I 2024-07-01 15:45:27,161] Trial 67 finished with value: 0.6869621408953188 and parameters: {'alpha': 3.761958402392006}. Best is trial 45 with value: 0.6869621417870105.\n",
      "[I 2024-07-01 15:45:27,239] Trial 68 finished with value: 0.6869594351187 and parameters: {'alpha': 2.8554017705712598}. Best is trial 45 with value: 0.6869621417870105.\n",
      "[I 2024-07-01 15:45:27,306] Trial 69 finished with value: 0.6869594152118818 and parameters: {'alpha': 4.7738522130123995}. Best is trial 45 with value: 0.6869621417870105.\n",
      "[I 2024-07-01 15:45:27,373] Trial 70 finished with value: 0.6869620894694591 and parameters: {'alpha': 3.6491040011895115}. Best is trial 45 with value: 0.6869621417870105.\n",
      "[I 2024-07-01 15:45:27,426] Trial 71 finished with value: 0.6869621400272748 and parameters: {'alpha': 3.755624247336126}. Best is trial 45 with value: 0.6869621417870105.\n",
      "[I 2024-07-01 15:45:27,490] Trial 72 finished with value: 0.686961547500041 and parameters: {'alpha': 4.237265271241491}. Best is trial 45 with value: 0.6869621417870105.\n",
      "[I 2024-07-01 15:45:27,556] Trial 73 finished with value: 0.6869610802325404 and parameters: {'alpha': 3.1945335370593764}. Best is trial 45 with value: 0.6869621417870105.\n",
      "[I 2024-07-01 15:45:27,627] Trial 74 finished with value: 0.6869520676303595 and parameters: {'alpha': 2.048099605504227}. Best is trial 45 with value: 0.6869621417870105.\n",
      "[I 2024-07-01 15:45:27,689] Trial 75 finished with value: 0.6869621357824686 and parameters: {'alpha': 3.7358514412123327}. Best is trial 45 with value: 0.6869621417870105.\n",
      "[I 2024-07-01 15:45:27,742] Trial 76 finished with value: 0.6869587483579669 and parameters: {'alpha': 2.748551428511989}. Best is trial 45 with value: 0.6869621417870105.\n",
      "[I 2024-07-01 15:45:27,806] Trial 77 finished with value: 0.686961853261516 and parameters: {'alpha': 3.4725914877050177}. Best is trial 45 with value: 0.6869621417870105.\n",
      "[I 2024-07-01 15:45:27,874] Trial 78 finished with value: 0.6869621087416491 and parameters: {'alpha': 3.676099361076857}. Best is trial 45 with value: 0.6869621417870105.\n",
      "[I 2024-07-01 15:45:27,939] Trial 79 finished with value: 0.6869581093371766 and parameters: {'alpha': 4.996536408144879}. Best is trial 45 with value: 0.6869621417870105.\n",
      "[I 2024-07-01 15:45:28,010] Trial 80 finished with value: 0.6869604245574663 and parameters: {'alpha': 3.0390005847832726}. Best is trial 45 with value: 0.6869621417870105.\n",
      "[I 2024-07-01 15:45:28,077] Trial 81 finished with value: 0.6869621401749646 and parameters: {'alpha': 3.756589633679704}. Best is trial 45 with value: 0.6869621417870105.\n",
      "[I 2024-07-01 15:45:28,140] Trial 82 finished with value: 0.6869615637415319 and parameters: {'alpha': 4.230910398191884}. Best is trial 45 with value: 0.6869621417870105.\n",
      "[I 2024-07-01 15:45:28,209] Trial 83 finished with value: 0.686961649072587 and parameters: {'alpha': 3.3790836704715996}. Best is trial 45 with value: 0.6869621417870105.\n",
      "[I 2024-07-01 15:45:28,276] Trial 84 finished with value: 0.6869621409455096 and parameters: {'alpha': 3.762387510064112}. Best is trial 45 with value: 0.6869621417870105.\n",
      "[I 2024-07-01 15:45:28,338] Trial 85 finished with value: 0.6869607182811605 and parameters: {'alpha': 4.4923528043294265}. Best is trial 45 with value: 0.6869621417870105.\n",
      "[I 2024-07-01 15:45:28,394] Trial 86 finished with value: 0.6869619110947058 and parameters: {'alpha': 4.064126677519045}. Best is trial 45 with value: 0.6869621417870105.\n",
      "[I 2024-07-01 15:45:28,459] Trial 87 finished with value: 0.6869570986602593 and parameters: {'alpha': 2.5322432054368837}. Best is trial 45 with value: 0.6869621417870105.\n",
      "[I 2024-07-01 15:45:28,525] Trial 88 finished with value: 0.6869621380600675 and parameters: {'alpha': 3.8188251767635277}. Best is trial 45 with value: 0.6869621417870105.\n",
      "[I 2024-07-01 15:45:28,592] Trial 89 finished with value: 0.6869596816237867 and parameters: {'alpha': 4.722646384163124}. Best is trial 45 with value: 0.6869621417870105.\n",
      "[I 2024-07-01 15:45:28,661] Trial 90 finished with value: 0.6869542566074652 and parameters: {'alpha': 5.5066313204827395}. Best is trial 45 with value: 0.6869621417870105.\n",
      "[I 2024-07-01 15:45:28,723] Trial 91 finished with value: 0.6869621406777009 and parameters: {'alpha': 3.760195870439774}. Best is trial 45 with value: 0.6869621417870105.\n",
      "[I 2024-07-01 15:45:28,788] Trial 92 finished with value: 0.6869619127476252 and parameters: {'alpha': 3.505964782089785}. Best is trial 45 with value: 0.6869621417870105.\n",
      "[I 2024-07-01 15:45:28,857] Trial 93 finished with value: 0.686962140513067 and parameters: {'alpha': 3.7589523354417533}. Best is trial 45 with value: 0.6869621417870105.\n",
      "[I 2024-07-01 15:45:28,910] Trial 94 finished with value: 0.68696074108097 and parameters: {'alpha': 3.1092554505331247}. Best is trial 45 with value: 0.6869621417870105.\n",
      "[I 2024-07-01 15:45:28,976] Trial 95 finished with value: 0.6869611331332606 and parameters: {'alpha': 4.377775894244409}. Best is trial 45 with value: 0.6869621417870105.\n",
      "[I 2024-07-01 15:45:29,040] Trial 96 finished with value: 0.6869618224508983 and parameters: {'alpha': 4.114439495574233}. Best is trial 45 with value: 0.6869621417870105.\n",
      "[I 2024-07-01 15:45:29,111] Trial 97 finished with value: 0.6869203329580779 and parameters: {'alpha': 8.034896344510079}. Best is trial 45 with value: 0.6869621417870105.\n",
      "[I 2024-07-01 15:45:29,174] Trial 98 finished with value: 0.6869621420379183 and parameters: {'alpha': 3.785453809513179}. Best is trial 98 with value: 0.6869621420379183.\n",
      "[I 2024-07-01 15:45:29,257] Trial 99 finished with value: 0.6869616240294772 and parameters: {'alpha': 3.3691220786222327}. Best is trial 98 with value: 0.6869621420379183.\n"
     ]
    },
    {
     "name": "stdout",
     "output_type": "stream",
     "text": [
      "Best R2 Score: 0.6711\n",
      "Best Ridge Alpha: 3.7855\n"
     ]
    }
   ],
   "source": [
    "import optuna\n",
    "from sklearn.linear_model import Ridge\n",
    "from sklearn.metrics import r2_score\n",
    "from sklearn.model_selection import cross_val_score\n",
    "\n",
    "def objective(trial):\n",
    "    alpha = trial.suggest_float('alpha', 0.01, 10.0)\n",
    "    model = Ridge(alpha=alpha)\n",
    "    scores = cross_val_score(model, X_train_processed, y_train, cv=5, scoring='r2')\n",
    "    return scores.mean()\n",
    "\n",
    "study = optuna.create_study(direction='maximize')\n",
    "study.optimize(objective, n_trials=100)\n",
    "\n",
    "best_alpha = study.best_params['alpha']\n",
    "best_ridge = Ridge(alpha=best_alpha)\n",
    "best_ridge.fit(X_train_processed, y_train)\n",
    "y_pred = best_ridge.predict(X_test_processed)\n",
    "r2 = r2_score(y_test, y_pred)\n",
    "\n",
    "print(f\"Best R2 Score: {r2:.4f}\")\n",
    "print(f\"Best Ridge Alpha: {best_alpha:.4f}\")\n"
   ]
  },
  {
   "cell_type": "markdown",
   "metadata": {},
   "source": [
    "GRADIENT BOOSTING REGRESSOR WITH OPTUNA"
   ]
  },
  {
   "cell_type": "code",
   "execution_count": null,
   "metadata": {},
   "outputs": [
    {
     "name": "stderr",
     "output_type": "stream",
     "text": [
      "[I 2024-07-01 15:45:29,299] A new study created in memory with name: no-name-c5aa79b2-f229-43f5-a4b8-5937f5b11b09\n",
      "[I 2024-07-01 15:45:30,155] Trial 0 finished with value: 0.7040529860858065 and parameters: {'n_estimators': 50, 'learning_rate': 0.09569160504434487, 'max_depth': 3, 'min_samples_split': 7, 'min_samples_leaf': 1}. Best is trial 0 with value: 0.7040529860858065.\n",
      "[I 2024-07-01 15:45:35,755] Trial 1 finished with value: 0.7021678159926016 and parameters: {'n_estimators': 200, 'learning_rate': 0.08754317942091289, 'max_depth': 8, 'min_samples_split': 6, 'min_samples_leaf': 10}. Best is trial 0 with value: 0.7040529860858065.\n",
      "[I 2024-07-01 15:45:38,388] Trial 2 finished with value: 0.710589288633144 and parameters: {'n_estimators': 100, 'learning_rate': 0.05937776598227098, 'max_depth': 7, 'min_samples_split': 6, 'min_samples_leaf': 5}. Best is trial 2 with value: 0.710589288633144.\n",
      "[I 2024-07-01 15:45:41,118] Trial 3 finished with value: 0.7114635003297596 and parameters: {'n_estimators': 150, 'learning_rate': 0.04180346446511256, 'max_depth': 4, 'min_samples_split': 4, 'min_samples_leaf': 7}. Best is trial 3 with value: 0.7114635003297596.\n",
      "[I 2024-07-01 15:45:44,686] Trial 4 finished with value: 0.7067571117742517 and parameters: {'n_estimators': 150, 'learning_rate': 0.09338990077489814, 'max_depth': 6, 'min_samples_split': 8, 'min_samples_leaf': 9}. Best is trial 3 with value: 0.7114635003297596.\n",
      "[I 2024-07-01 15:45:48,590] Trial 5 finished with value: 0.7040238053809771 and parameters: {'n_estimators': 150, 'learning_rate': 0.09239406763550014, 'max_depth': 7, 'min_samples_split': 14, 'min_samples_leaf': 3}. Best is trial 3 with value: 0.7114635003297596.\n",
      "[I 2024-07-01 15:45:56,120] Trial 6 finished with value: 0.6924132233345986 and parameters: {'n_estimators': 250, 'learning_rate': 0.08109330485095309, 'max_depth': 9, 'min_samples_split': 6, 'min_samples_leaf': 7}. Best is trial 3 with value: 0.7114635003297596.\n",
      "[I 2024-07-01 15:46:01,663] Trial 7 finished with value: 0.7063341219000857 and parameters: {'n_estimators': 300, 'learning_rate': 0.08514047756298354, 'max_depth': 4, 'min_samples_split': 14, 'min_samples_leaf': 5}. Best is trial 3 with value: 0.7114635003297596.\n",
      "[I 2024-07-01 15:46:05,884] Trial 8 finished with value: 0.7003363036103188 and parameters: {'n_estimators': 200, 'learning_rate': 0.011185159723713275, 'max_depth': 5, 'min_samples_split': 10, 'min_samples_leaf': 4}. Best is trial 3 with value: 0.7114635003297596.\n",
      "[I 2024-07-01 15:46:06,709] Trial 9 finished with value: 0.6979229219650309 and parameters: {'n_estimators': 50, 'learning_rate': 0.0627464345112121, 'max_depth': 3, 'min_samples_split': 17, 'min_samples_leaf': 2}. Best is trial 3 with value: 0.7114635003297596.\n",
      "[I 2024-07-01 15:46:13,013] Trial 10 finished with value: 0.7119184159218569 and parameters: {'n_estimators': 300, 'learning_rate': 0.024324630689318675, 'max_depth': 5, 'min_samples_split': 2, 'min_samples_leaf': 7}. Best is trial 10 with value: 0.7119184159218569.\n",
      "[I 2024-07-01 15:46:19,346] Trial 11 finished with value: 0.7122413688174782 and parameters: {'n_estimators': 300, 'learning_rate': 0.025556954022776024, 'max_depth': 5, 'min_samples_split': 2, 'min_samples_leaf': 7}. Best is trial 11 with value: 0.7122413688174782.\n",
      "[I 2024-07-01 15:46:25,575] Trial 12 finished with value: 0.7128725885498545 and parameters: {'n_estimators': 300, 'learning_rate': 0.019273210393213128, 'max_depth': 5, 'min_samples_split': 2, 'min_samples_leaf': 7}. Best is trial 12 with value: 0.7128725885498545.\n",
      "[I 2024-07-01 15:46:31,331] Trial 13 finished with value: 0.7103206189710773 and parameters: {'n_estimators': 250, 'learning_rate': 0.03351623645340572, 'max_depth': 6, 'min_samples_split': 2, 'min_samples_leaf': 8}. Best is trial 12 with value: 0.7128725885498545.\n",
      "[I 2024-07-01 15:46:40,880] Trial 14 finished with value: 0.7003699989601222 and parameters: {'n_estimators': 300, 'learning_rate': 0.01659497184911845, 'max_depth': 10, 'min_samples_split': 2, 'min_samples_leaf': 6}. Best is trial 12 with value: 0.7128725885498545.\n",
      "[I 2024-07-01 15:46:46,129] Trial 15 finished with value: 0.7115011774180428 and parameters: {'n_estimators': 250, 'learning_rate': 0.044130858887874096, 'max_depth': 5, 'min_samples_split': 20, 'min_samples_leaf': 9}. Best is trial 12 with value: 0.7128725885498545.\n",
      "[I 2024-07-01 15:46:50,912] Trial 16 finished with value: 0.7116601421995817 and parameters: {'n_estimators': 250, 'learning_rate': 0.026398829561065287, 'max_depth': 4, 'min_samples_split': 10, 'min_samples_leaf': 6}. Best is trial 12 with value: 0.7128725885498545.\n",
      "[I 2024-07-01 15:46:57,944] Trial 17 finished with value: 0.7083277314633442 and parameters: {'n_estimators': 300, 'learning_rate': 0.04649537743138734, 'max_depth': 6, 'min_samples_split': 4, 'min_samples_leaf': 8}. Best is trial 12 with value: 0.7128725885498545.\n",
      "[I 2024-07-01 15:47:03,442] Trial 18 finished with value: 0.703637643495999 and parameters: {'n_estimators': 200, 'learning_rate': 0.023195795753194123, 'max_depth': 8, 'min_samples_split': 4, 'min_samples_leaf': 4}. Best is trial 12 with value: 0.7128725885498545.\n",
      "[I 2024-07-01 15:47:09,743] Trial 19 finished with value: 0.7066129556035099 and parameters: {'n_estimators': 300, 'learning_rate': 0.07122595906819407, 'max_depth': 5, 'min_samples_split': 12, 'min_samples_leaf': 8}. Best is trial 12 with value: 0.7128725885498545.\n",
      "[I 2024-07-01 15:47:13,742] Trial 20 finished with value: 0.7058570540382929 and parameters: {'n_estimators': 250, 'learning_rate': 0.03168185398890886, 'max_depth': 3, 'min_samples_split': 8, 'min_samples_leaf': 10}. Best is trial 12 with value: 0.7128725885498545.\n",
      "[I 2024-07-01 15:47:20,575] Trial 21 finished with value: 0.7128610564137562 and parameters: {'n_estimators': 300, 'learning_rate': 0.020103664155370533, 'max_depth': 5, 'min_samples_split': 2, 'min_samples_leaf': 7}. Best is trial 12 with value: 0.7128725885498545.\n",
      "[I 2024-07-01 15:47:26,426] Trial 22 finished with value: 0.71136889053488 and parameters: {'n_estimators': 300, 'learning_rate': 0.015372429019223505, 'max_depth': 4, 'min_samples_split': 4, 'min_samples_leaf': 6}. Best is trial 12 with value: 0.7128725885498545.\n",
      "[I 2024-07-01 15:47:32,090] Trial 23 finished with value: 0.7113142766554388 and parameters: {'n_estimators': 250, 'learning_rate': 0.03317626242359986, 'max_depth': 5, 'min_samples_split': 2, 'min_samples_leaf': 7}. Best is trial 12 with value: 0.7128725885498545.\n",
      "[I 2024-07-01 15:47:39,341] Trial 24 finished with value: 0.7120322563652672 and parameters: {'n_estimators': 300, 'learning_rate': 0.018767865536100565, 'max_depth': 6, 'min_samples_split': 4, 'min_samples_leaf': 9}. Best is trial 12 with value: 0.7128725885498545.\n",
      "[I 2024-07-01 15:47:45,996] Trial 25 finished with value: 0.7081398205179357 and parameters: {'n_estimators': 250, 'learning_rate': 0.010113239794973323, 'max_depth': 7, 'min_samples_split': 3, 'min_samples_leaf': 8}. Best is trial 12 with value: 0.7128725885498545.\n",
      "[I 2024-07-01 15:47:52,403] Trial 26 finished with value: 0.7082547374467323 and parameters: {'n_estimators': 300, 'learning_rate': 0.051698178999555394, 'max_depth': 4, 'min_samples_split': 5, 'min_samples_leaf': 5}. Best is trial 12 with value: 0.7128725885498545.\n",
      "[I 2024-07-01 15:47:57,206] Trial 27 finished with value: 0.713095321279279 and parameters: {'n_estimators': 200, 'learning_rate': 0.02884264542654983, 'max_depth': 5, 'min_samples_split': 9, 'min_samples_leaf': 6}. Best is trial 27 with value: 0.713095321279279.\n",
      "[I 2024-07-01 15:48:00,008] Trial 28 finished with value: 0.7133394017378452 and parameters: {'n_estimators': 100, 'learning_rate': 0.03827124200310753, 'max_depth': 6, 'min_samples_split': 12, 'min_samples_leaf': 4}. Best is trial 28 with value: 0.7133394017378452.\n",
      "[I 2024-07-01 15:48:03,440] Trial 29 finished with value: 0.7001226161847145 and parameters: {'n_estimators': 100, 'learning_rate': 0.038688765138478125, 'max_depth': 8, 'min_samples_split': 12, 'min_samples_leaf': 1}. Best is trial 28 with value: 0.7133394017378452.\n",
      "[I 2024-07-01 15:48:04,970] Trial 30 finished with value: 0.7099313068787865 and parameters: {'n_estimators': 50, 'learning_rate': 0.051608253935729875, 'max_depth': 6, 'min_samples_split': 15, 'min_samples_leaf': 4}. Best is trial 28 with value: 0.7133394017378452.\n",
      "[I 2024-07-01 15:48:07,572] Trial 31 finished with value: 0.7088185348225584 and parameters: {'n_estimators': 100, 'learning_rate': 0.031232904409298178, 'max_depth': 5, 'min_samples_split': 8, 'min_samples_leaf': 3}. Best is trial 28 with value: 0.7133394017378452.\n",
      "[I 2024-07-01 15:48:12,688] Trial 32 finished with value: 0.7135141516114345 and parameters: {'n_estimators': 200, 'learning_rate': 0.020881476514368474, 'max_depth': 6, 'min_samples_split': 10, 'min_samples_leaf': 6}. Best is trial 32 with value: 0.7135141516114345.\n",
      "[I 2024-07-01 15:48:18,587] Trial 33 finished with value: 0.7097978300560859 and parameters: {'n_estimators': 200, 'learning_rate': 0.03817091236828526, 'max_depth': 7, 'min_samples_split': 10, 'min_samples_leaf': 5}. Best is trial 32 with value: 0.7135141516114345.\n",
      "[I 2024-07-01 15:48:22,582] Trial 34 finished with value: 0.7138406930493111 and parameters: {'n_estimators': 150, 'learning_rate': 0.028400169602992815, 'max_depth': 6, 'min_samples_split': 12, 'min_samples_leaf': 6}. Best is trial 34 with value: 0.7138406930493111.\n",
      "[I 2024-07-01 15:48:26,403] Trial 35 finished with value: 0.7133346482646037 and parameters: {'n_estimators': 150, 'learning_rate': 0.03673147692698773, 'max_depth': 6, 'min_samples_split': 12, 'min_samples_leaf': 6}. Best is trial 34 with value: 0.7138406930493111.\n",
      "[I 2024-07-01 15:48:30,603] Trial 36 finished with value: 0.7098785858068342 and parameters: {'n_estimators': 150, 'learning_rate': 0.03902565080487346, 'max_depth': 7, 'min_samples_split': 12, 'min_samples_leaf': 3}. Best is trial 34 with value: 0.7138406930493111.\n"
     ]
    }
   ],
   "source": [
    "from sklearn.ensemble import GradientBoostingRegressor\n",
    "\n",
    "def objective(trial):\n",
    "    params = {\n",
    "        'n_estimators': trial.suggest_int('n_estimators', 50, 300, step=50),\n",
    "        'learning_rate': trial.suggest_float('learning_rate', 0.01, 0.1),\n",
    "        'max_depth': trial.suggest_int('max_depth', 3, 10),\n",
    "        'min_samples_split': trial.suggest_int('min_samples_split', 2, 20),\n",
    "        'min_samples_leaf': trial.suggest_int('min_samples_leaf', 1, 10)\n",
    "    }\n",
    "    \n",
    "    model = GradientBoostingRegressor(**params, random_state=42)\n",
    "    scores = cross_val_score(model, X_train_processed, y_train, cv=5, scoring='r2')\n",
    "    return scores.mean()\n",
    "\n",
    "study_gb = optuna.create_study(direction='maximize')\n",
    "study_gb.optimize(objective, n_trials=100)\n",
    "\n",
    "best_params_gb = study_gb.best_params\n",
    "best_gb = GradientBoostingRegressor(**best_params_gb, random_state=42)\n",
    "best_gb.fit(X_train_processed, y_train)\n",
    "y_pred_gb = best_gb.predict(X_test_processed)\n",
    "r2_gb = r2_score(y_test, y_pred_gb)\n",
    "\n",
    "print(f\"Best R2 Score (Gradient Boosting): {r2_gb:.4f}\")\n",
    "print(f\"Best Parameters (Gradient Boosting): {best_params_gb}\")\n"
   ]
  },
  {
   "cell_type": "markdown",
   "metadata": {},
   "source": [
    "RANDOM FOREST REGRESSOR WITH OPTUNA"
   ]
  },
  {
   "cell_type": "code",
   "execution_count": null,
   "metadata": {},
   "outputs": [
    {
     "name": "stderr",
     "output_type": "stream",
     "text": [
      "[I 2024-07-01 15:14:21,749] A new study created in memory with name: no-name-e3b6b1bd-4239-465f-86f1-abc3b39fac6e\n",
      "[I 2024-07-01 15:14:27,334] Trial 0 finished with value: 0.6787951171161967 and parameters: {'n_estimators': 250, 'max_depth': 4, 'min_samples_split': 7, 'min_samples_leaf': 10}. Best is trial 0 with value: 0.6787951171161967.\n",
      "[I 2024-07-01 15:14:29,563] Trial 1 finished with value: 0.6796106123188925 and parameters: {'n_estimators': 100, 'max_depth': 4, 'min_samples_split': 10, 'min_samples_leaf': 4}. Best is trial 1 with value: 0.6796106123188925.\n",
      "[I 2024-07-01 15:14:32,632] Trial 2 finished with value: 0.7101445354574223 and parameters: {'n_estimators': 100, 'max_depth': 10, 'min_samples_split': 15, 'min_samples_leaf': 1}. Best is trial 2 with value: 0.7101445354574223.\n",
      "[I 2024-07-01 15:14:38,462] Trial 3 finished with value: 0.7100560923068234 and parameters: {'n_estimators': 200, 'max_depth': 9, 'min_samples_split': 4, 'min_samples_leaf': 4}. Best is trial 2 with value: 0.7101445354574223.\n",
      "[I 2024-07-01 15:14:47,378] Trial 4 finished with value: 0.7107018650170656 and parameters: {'n_estimators': 300, 'max_depth': 9, 'min_samples_split': 9, 'min_samples_leaf': 1}. Best is trial 4 with value: 0.7107018650170656.\n",
      "[I 2024-07-01 15:14:51,460] Trial 5 finished with value: 0.6344950489576908 and parameters: {'n_estimators': 200, 'max_depth': 3, 'min_samples_split': 19, 'min_samples_leaf': 6}. Best is trial 4 with value: 0.7107018650170656.\n",
      "[I 2024-07-01 15:14:56,993] Trial 6 finished with value: 0.6793987883629169 and parameters: {'n_estimators': 250, 'max_depth': 4, 'min_samples_split': 19, 'min_samples_leaf': 3}. Best is trial 4 with value: 0.7107018650170656.\n",
      "[I 2024-07-01 15:15:00,309] Trial 7 finished with value: 0.6793439657023732 and parameters: {'n_estimators': 150, 'max_depth': 4, 'min_samples_split': 17, 'min_samples_leaf': 9}. Best is trial 4 with value: 0.7107018650170656.\n",
      "[I 2024-07-01 15:15:04,079] Trial 8 finished with value: 0.7040399546559695 and parameters: {'n_estimators': 150, 'max_depth': 6, 'min_samples_split': 18, 'min_samples_leaf': 9}. Best is trial 4 with value: 0.7107018650170656.\n",
      "[I 2024-07-01 15:15:10,608] Trial 9 finished with value: 0.7029683613999682 and parameters: {'n_estimators': 250, 'max_depth': 6, 'min_samples_split': 9, 'min_samples_leaf': 10}. Best is trial 4 with value: 0.7107018650170656.\n",
      "[I 2024-07-01 15:15:19,713] Trial 10 finished with value: 0.7071358314569932 and parameters: {'n_estimators': 300, 'max_depth': 8, 'min_samples_split': 2, 'min_samples_leaf': 1}. Best is trial 4 with value: 0.7107018650170656.\n",
      "[I 2024-07-01 15:15:21,340] Trial 11 finished with value: 0.70930698905565 and parameters: {'n_estimators': 50, 'max_depth': 10, 'min_samples_split': 13, 'min_samples_leaf': 1}. Best is trial 4 with value: 0.7107018650170656.\n",
      "[I 2024-07-01 15:15:22,955] Trial 12 finished with value: 0.7100083129617669 and parameters: {'n_estimators': 50, 'max_depth': 10, 'min_samples_split': 13, 'min_samples_leaf': 2}. Best is trial 4 with value: 0.7107018650170656.\n",
      "[I 2024-07-01 15:15:25,793] Trial 13 finished with value: 0.7094022254609675 and parameters: {'n_estimators': 100, 'max_depth': 8, 'min_samples_split': 15, 'min_samples_leaf': 5}. Best is trial 4 with value: 0.7107018650170656.\n",
      "[I 2024-07-01 15:15:34,038] Trial 14 finished with value: 0.7094187699755807 and parameters: {'n_estimators': 300, 'max_depth': 8, 'min_samples_split': 7, 'min_samples_leaf': 7}. Best is trial 4 with value: 0.7107018650170656.\n",
      "[I 2024-07-01 15:15:37,038] Trial 15 finished with value: 0.7106247971699424 and parameters: {'n_estimators': 100, 'max_depth': 9, 'min_samples_split': 12, 'min_samples_leaf': 2}. Best is trial 4 with value: 0.7107018650170656.\n",
      "[I 2024-07-01 15:15:41,071] Trial 16 finished with value: 0.7096669617998597 and parameters: {'n_estimators': 150, 'max_depth': 7, 'min_samples_split': 12, 'min_samples_leaf': 3}. Best is trial 4 with value: 0.7107018650170656.\n",
      "[I 2024-07-01 15:15:47,041] Trial 17 finished with value: 0.7111366993694249 and parameters: {'n_estimators': 200, 'max_depth': 9, 'min_samples_split': 7, 'min_samples_leaf': 2}. Best is trial 17 with value: 0.7111366993694249.\n",
      "[I 2024-07-01 15:15:55,169] Trial 18 finished with value: 0.7098206048426416 and parameters: {'n_estimators': 300, 'max_depth': 7, 'min_samples_split': 6, 'min_samples_leaf': 3}. Best is trial 17 with value: 0.7111366993694249.\n",
      "[I 2024-07-01 15:16:00,785] Trial 19 finished with value: 0.7095651707071229 and parameters: {'n_estimators': 200, 'max_depth': 9, 'min_samples_split': 5, 'min_samples_leaf': 7}. Best is trial 17 with value: 0.7111366993694249.\n",
      "[I 2024-07-01 15:16:08,164] Trial 20 finished with value: 0.7113662218685468 and parameters: {'n_estimators': 250, 'max_depth': 9, 'min_samples_split': 9, 'min_samples_leaf': 2}. Best is trial 20 with value: 0.7113662218685468.\n",
      "[I 2024-07-01 15:16:15,550] Trial 21 finished with value: 0.7113662218685468 and parameters: {'n_estimators': 250, 'max_depth': 9, 'min_samples_split': 9, 'min_samples_leaf': 2}. Best is trial 20 with value: 0.7113662218685468.\n",
      "[I 2024-07-01 15:16:22,782] Trial 22 finished with value: 0.7109199995347922 and parameters: {'n_estimators': 250, 'max_depth': 8, 'min_samples_split': 8, 'min_samples_leaf': 2}. Best is trial 20 with value: 0.7113662218685468.\n",
      "[I 2024-07-01 15:16:28,948] Trial 23 finished with value: 0.7097401336349771 and parameters: {'n_estimators': 200, 'max_depth': 10, 'min_samples_split': 10, 'min_samples_leaf': 4}. Best is trial 20 with value: 0.7113662218685468.\n",
      "[I 2024-07-01 15:16:35,813] Trial 24 finished with value: 0.7088079927506892 and parameters: {'n_estimators': 250, 'max_depth': 7, 'min_samples_split': 3, 'min_samples_leaf': 2}. Best is trial 20 with value: 0.7113662218685468.\n",
      "[I 2024-07-01 15:16:43,132] Trial 25 finished with value: 0.710148012871674 and parameters: {'n_estimators': 250, 'max_depth': 9, 'min_samples_split': 6, 'min_samples_leaf': 5}. Best is trial 20 with value: 0.7113662218685468.\n",
      "[I 2024-07-01 15:16:49,148] Trial 26 finished with value: 0.7109454899780611 and parameters: {'n_estimators': 200, 'max_depth': 8, 'min_samples_split': 8, 'min_samples_leaf': 3}. Best is trial 20 with value: 0.7113662218685468.\n",
      "[I 2024-07-01 15:16:56,611] Trial 27 finished with value: 0.7114310023952812 and parameters: {'n_estimators': 250, 'max_depth': 9, 'min_samples_split': 11, 'min_samples_leaf': 2}. Best is trial 27 with value: 0.7114310023952812.\n",
      "[I 2024-07-01 15:17:04,528] Trial 28 finished with value: 0.7071080192804704 and parameters: {'n_estimators': 300, 'max_depth': 6, 'min_samples_split': 11, 'min_samples_leaf': 4}. Best is trial 27 with value: 0.7114310023952812.\n",
      "[I 2024-07-01 15:17:12,229] Trial 29 finished with value: 0.7095554559900086 and parameters: {'n_estimators': 250, 'max_depth': 10, 'min_samples_split': 15, 'min_samples_leaf': 6}. Best is trial 27 with value: 0.7114310023952812.\n",
      "[I 2024-07-01 15:17:19,058] Trial 30 finished with value: 0.6977057216076812 and parameters: {'n_estimators': 250, 'max_depth': 5, 'min_samples_split': 10, 'min_samples_leaf': 3}. Best is trial 27 with value: 0.7114310023952812.\n",
      "[I 2024-07-01 15:17:25,507] Trial 31 finished with value: 0.7111366993694249 and parameters: {'n_estimators': 200, 'max_depth': 9, 'min_samples_split': 7, 'min_samples_leaf': 2}. Best is trial 27 with value: 0.7114310023952812.\n",
      "[I 2024-07-01 15:17:33,827] Trial 32 finished with value: 0.7113662218685468 and parameters: {'n_estimators': 250, 'max_depth': 9, 'min_samples_split': 9, 'min_samples_leaf': 2}. Best is trial 27 with value: 0.7114310023952812.\n",
      "[I 2024-07-01 15:17:41,542] Trial 33 finished with value: 0.7098712796335029 and parameters: {'n_estimators': 250, 'max_depth': 8, 'min_samples_split': 11, 'min_samples_leaf': 1}. Best is trial 27 with value: 0.7114310023952812.\n",
      "[I 2024-07-01 15:17:52,561] Trial 34 finished with value: 0.7107960556733788 and parameters: {'n_estimators': 300, 'max_depth': 10, 'min_samples_split': 9, 'min_samples_leaf': 3}. Best is trial 27 with value: 0.7114310023952812.\n",
      "[I 2024-07-01 15:18:00,554] Trial 35 finished with value: 0.7107839046960784 and parameters: {'n_estimators': 250, 'max_depth': 9, 'min_samples_split': 13, 'min_samples_leaf': 1}. Best is trial 27 with value: 0.7114310023952812.\n",
      "[I 2024-07-01 15:18:08,668] Trial 36 finished with value: 0.7113940208153553 and parameters: {'n_estimators': 250, 'max_depth': 9, 'min_samples_split': 8, 'min_samples_leaf': 2}. Best is trial 27 with value: 0.7114310023952812.\n",
      "[I 2024-07-01 15:18:18,000] Trial 37 finished with value: 0.7096717665160497 and parameters: {'n_estimators': 300, 'max_depth': 10, 'min_samples_split': 5, 'min_samples_leaf': 4}. Best is trial 27 with value: 0.7114310023952812.\n",
      "[I 2024-07-01 15:18:23,966] Trial 38 finished with value: 0.7085849358933141 and parameters: {'n_estimators': 200, 'max_depth': 7, 'min_samples_split': 10, 'min_samples_leaf': 1}. Best is trial 27 with value: 0.7114310023952812.\n",
      "[I 2024-07-01 15:18:31,349] Trial 39 finished with value: 0.7101870188804595 and parameters: {'n_estimators': 250, 'max_depth': 8, 'min_samples_split': 8, 'min_samples_leaf': 4}. Best is trial 27 with value: 0.7114310023952812.\n",
      "[I 2024-07-01 15:18:35,931] Trial 40 finished with value: 0.7108962466473147 and parameters: {'n_estimators': 150, 'max_depth': 9, 'min_samples_split': 12, 'min_samples_leaf': 3}. Best is trial 27 with value: 0.7114310023952812.\n",
      "[I 2024-07-01 15:18:43,497] Trial 41 finished with value: 0.7113662218685468 and parameters: {'n_estimators': 250, 'max_depth': 9, 'min_samples_split': 9, 'min_samples_leaf': 2}. Best is trial 27 with value: 0.7114310023952812.\n",
      "[I 2024-07-01 15:18:51,379] Trial 42 finished with value: 0.7115034854305343 and parameters: {'n_estimators': 250, 'max_depth': 9, 'min_samples_split': 10, 'min_samples_leaf': 2}. Best is trial 42 with value: 0.7115034854305343.\n",
      "[I 2024-07-01 15:18:58,060] Trial 43 finished with value: 0.6347303554342386 and parameters: {'n_estimators': 300, 'max_depth': 3, 'min_samples_split': 10, 'min_samples_leaf': 1}. Best is trial 42 with value: 0.7115034854305343.\n",
      "[I 2024-07-01 15:19:06,416] Trial 44 finished with value: 0.711122508441917 and parameters: {'n_estimators': 250, 'max_depth': 10, 'min_samples_split': 14, 'min_samples_leaf': 3}. Best is trial 42 with value: 0.7115034854305343.\n",
      "[I 2024-07-01 15:19:12,760] Trial 45 finished with value: 0.7090928279863669 and parameters: {'n_estimators': 200, 'max_depth': 8, 'min_samples_split': 8, 'min_samples_leaf': 1}. Best is trial 42 with value: 0.7115034854305343.\n",
      "[I 2024-07-01 15:19:20,609] Trial 46 finished with value: 0.7114310023952812 and parameters: {'n_estimators': 250, 'max_depth': 9, 'min_samples_split': 11, 'min_samples_leaf': 2}. Best is trial 42 with value: 0.7115034854305343.\n",
      "[I 2024-07-01 15:19:30,944] Trial 47 finished with value: 0.7098335419219277 and parameters: {'n_estimators': 300, 'max_depth': 10, 'min_samples_split': 11, 'min_samples_leaf': 5}. Best is trial 42 with value: 0.7115034854305343.\n",
      "[I 2024-07-01 15:19:39,073] Trial 48 finished with value: 0.6976545452343123 and parameters: {'n_estimators': 250, 'max_depth': 5, 'min_samples_split': 12, 'min_samples_leaf': 2}. Best is trial 42 with value: 0.7115034854305343.\n",
      "[I 2024-07-01 15:19:47,025] Trial 49 finished with value: 0.7104781704103942 and parameters: {'n_estimators': 200, 'max_depth': 9, 'min_samples_split': 14, 'min_samples_leaf': 1}. Best is trial 42 with value: 0.7115034854305343.\n",
      "[I 2024-07-01 15:19:56,074] Trial 50 finished with value: 0.7075325443733435 and parameters: {'n_estimators': 250, 'max_depth': 8, 'min_samples_split': 6, 'min_samples_leaf': 9}. Best is trial 42 with value: 0.7115034854305343.\n",
      "[I 2024-07-01 15:20:03,970] Trial 51 finished with value: 0.7115034854305343 and parameters: {'n_estimators': 250, 'max_depth': 9, 'min_samples_split': 10, 'min_samples_leaf': 2}. Best is trial 42 with value: 0.7115034854305343.\n",
      "[I 2024-07-01 15:20:11,670] Trial 52 finished with value: 0.7114310023952812 and parameters: {'n_estimators': 250, 'max_depth': 9, 'min_samples_split': 11, 'min_samples_leaf': 2}. Best is trial 42 with value: 0.7115034854305343.\n",
      "[I 2024-07-01 15:20:21,822] Trial 53 finished with value: 0.711276559766314 and parameters: {'n_estimators': 300, 'max_depth': 9, 'min_samples_split': 11, 'min_samples_leaf': 3}. Best is trial 42 with value: 0.7115034854305343.\n",
      "[I 2024-07-01 15:20:32,517] Trial 54 finished with value: 0.7113925075779153 and parameters: {'n_estimators': 250, 'max_depth': 10, 'min_samples_split': 12, 'min_samples_leaf': 2}. Best is trial 42 with value: 0.7115034854305343.\n",
      "[I 2024-07-01 15:20:39,665] Trial 55 finished with value: 0.7108761203846332 and parameters: {'n_estimators': 200, 'max_depth': 8, 'min_samples_split': 13, 'min_samples_leaf': 3}. Best is trial 42 with value: 0.7115034854305343.\n",
      "[I 2024-07-01 15:20:50,133] Trial 56 finished with value: 0.7108933299832202 and parameters: {'n_estimators': 300, 'max_depth': 9, 'min_samples_split': 10, 'min_samples_leaf': 1}. Best is trial 42 with value: 0.7115034854305343.\n",
      "[I 2024-07-01 15:20:59,713] Trial 57 finished with value: 0.7114256309071365 and parameters: {'n_estimators': 250, 'max_depth': 10, 'min_samples_split': 11, 'min_samples_leaf': 2}. Best is trial 42 with value: 0.7115034854305343.\n",
      "[I 2024-07-01 15:21:09,732] Trial 58 finished with value: 0.7100251775311268 and parameters: {'n_estimators': 250, 'max_depth': 10, 'min_samples_split': 14, 'min_samples_leaf': 4}. Best is trial 42 with value: 0.7115034854305343.\n",
      "[I 2024-07-01 15:21:20,877] Trial 59 finished with value: 0.7092082917811876 and parameters: {'n_estimators': 200, 'max_depth': 10, 'min_samples_split': 16, 'min_samples_leaf': 8}. Best is trial 42 with value: 0.7115034854305343.\n",
      "[I 2024-07-01 15:21:29,703] Trial 60 finished with value: 0.7114256309071365 and parameters: {'n_estimators': 250, 'max_depth': 10, 'min_samples_split': 11, 'min_samples_leaf': 2}. Best is trial 42 with value: 0.7115034854305343.\n",
      "[I 2024-07-01 15:21:38,424] Trial 61 finished with value: 0.7114256309071365 and parameters: {'n_estimators': 250, 'max_depth': 10, 'min_samples_split': 11, 'min_samples_leaf': 2}. Best is trial 42 with value: 0.7115034854305343.\n",
      "[I 2024-07-01 15:21:46,610] Trial 62 finished with value: 0.7109006840434755 and parameters: {'n_estimators': 250, 'max_depth': 10, 'min_samples_split': 11, 'min_samples_leaf': 1}. Best is trial 42 with value: 0.7115034854305343.\n",
      "[I 2024-07-01 15:21:54,391] Trial 63 finished with value: 0.7111537042964121 and parameters: {'n_estimators': 250, 'max_depth': 9, 'min_samples_split': 12, 'min_samples_leaf': 3}. Best is trial 42 with value: 0.7115034854305343.\n",
      "[I 2024-07-01 15:22:02,469] Trial 64 finished with value: 0.7115034854305343 and parameters: {'n_estimators': 250, 'max_depth': 9, 'min_samples_split': 10, 'min_samples_leaf': 2}. Best is trial 42 with value: 0.7115034854305343.\n",
      "[I 2024-07-01 15:22:13,038] Trial 65 finished with value: 0.7115497156266393 and parameters: {'n_estimators': 300, 'max_depth': 9, 'min_samples_split': 10, 'min_samples_leaf': 2}. Best is trial 65 with value: 0.7115497156266393.\n",
      "[I 2024-07-01 15:22:23,451] Trial 66 finished with value: 0.7100396460733664 and parameters: {'n_estimators': 300, 'max_depth': 8, 'min_samples_split': 10, 'min_samples_leaf': 1}. Best is trial 65 with value: 0.7115497156266393.\n",
      "[I 2024-07-01 15:22:33,018] Trial 67 finished with value: 0.711232528443556 and parameters: {'n_estimators': 300, 'max_depth': 9, 'min_samples_split': 10, 'min_samples_leaf': 3}. Best is trial 65 with value: 0.7115497156266393.\n",
      "[I 2024-07-01 15:22:41,758] Trial 68 finished with value: 0.7110068749548789 and parameters: {'n_estimators': 300, 'max_depth': 8, 'min_samples_split': 12, 'min_samples_leaf': 2}. Best is trial 65 with value: 0.7115497156266393.\n",
      "[I 2024-07-01 15:22:43,367] Trial 69 finished with value: 0.7086105366691118 and parameters: {'n_estimators': 50, 'max_depth': 9, 'min_samples_split': 9, 'min_samples_leaf': 2}. Best is trial 65 with value: 0.7115497156266393.\n",
      "[I 2024-07-01 15:22:47,491] Trial 70 finished with value: 0.7086090856220364 and parameters: {'n_estimators': 150, 'max_depth': 7, 'min_samples_split': 13, 'min_samples_leaf': 1}. Best is trial 65 with value: 0.7115497156266393.\n",
      "[I 2024-07-01 15:22:55,225] Trial 71 finished with value: 0.7114310023952812 and parameters: {'n_estimators': 250, 'max_depth': 9, 'min_samples_split': 11, 'min_samples_leaf': 2}. Best is trial 65 with value: 0.7115497156266393.\n",
      "[I 2024-07-01 15:23:03,363] Trial 72 finished with value: 0.7113662218685468 and parameters: {'n_estimators': 250, 'max_depth': 9, 'min_samples_split': 9, 'min_samples_leaf': 2}. Best is trial 65 with value: 0.7115497156266393.\n",
      "[I 2024-07-01 15:23:09,129] Trial 73 finished with value: 0.7110690132084835 and parameters: {'n_estimators': 200, 'max_depth': 8, 'min_samples_split': 10, 'min_samples_leaf': 3}. Best is trial 65 with value: 0.7115497156266393.\n",
      "[I 2024-07-01 15:23:16,662] Trial 74 finished with value: 0.7113572400924844 and parameters: {'n_estimators': 250, 'max_depth': 9, 'min_samples_split': 12, 'min_samples_leaf': 2}. Best is trial 65 with value: 0.7115497156266393.\n",
      "[I 2024-07-01 15:23:26,160] Trial 75 finished with value: 0.711232528443556 and parameters: {'n_estimators': 300, 'max_depth': 9, 'min_samples_split': 10, 'min_samples_leaf': 3}. Best is trial 65 with value: 0.7115497156266393.\n",
      "[I 2024-07-01 15:23:33,443] Trial 76 finished with value: 0.7097231871669553 and parameters: {'n_estimators': 250, 'max_depth': 8, 'min_samples_split': 20, 'min_samples_leaf': 2}. Best is trial 65 with value: 0.7115497156266393.\n",
      "[I 2024-07-01 15:23:43,159] Trial 77 finished with value: 0.7105785456109222 and parameters: {'n_estimators': 300, 'max_depth': 9, 'min_samples_split': 8, 'min_samples_leaf': 1}. Best is trial 65 with value: 0.7115497156266393.\n",
      "[I 2024-07-01 15:23:49,531] Trial 78 finished with value: 0.7108987967995399 and parameters: {'n_estimators': 200, 'max_depth': 9, 'min_samples_split': 9, 'min_samples_leaf': 3}. Best is trial 65 with value: 0.7115497156266393.\n",
      "[I 2024-07-01 15:23:57,479] Trial 79 finished with value: 0.7109959708884503 and parameters: {'n_estimators': 250, 'max_depth': 8, 'min_samples_split': 11, 'min_samples_leaf': 2}. Best is trial 65 with value: 0.7115497156266393.\n",
      "[I 2024-07-01 15:24:05,851] Trial 80 finished with value: 0.7097999187802241 and parameters: {'n_estimators': 250, 'max_depth': 9, 'min_samples_split': 7, 'min_samples_leaf': 6}. Best is trial 65 with value: 0.7115497156266393.\n",
      "[I 2024-07-01 15:24:13,732] Trial 81 finished with value: 0.7114310023952812 and parameters: {'n_estimators': 250, 'max_depth': 9, 'min_samples_split': 11, 'min_samples_leaf': 2}. Best is trial 65 with value: 0.7115497156266393.\n",
      "[I 2024-07-01 15:24:21,546] Trial 82 finished with value: 0.7114310023952812 and parameters: {'n_estimators': 250, 'max_depth': 9, 'min_samples_split': 11, 'min_samples_leaf': 2}. Best is trial 65 with value: 0.7115497156266393.\n",
      "[I 2024-07-01 15:24:30,062] Trial 83 finished with value: 0.7107412427231209 and parameters: {'n_estimators': 250, 'max_depth': 9, 'min_samples_split': 10, 'min_samples_leaf': 1}. Best is trial 65 with value: 0.7115497156266393.\n",
      "[I 2024-07-01 15:24:38,418] Trial 84 finished with value: 0.7113572400924844 and parameters: {'n_estimators': 250, 'max_depth': 9, 'min_samples_split': 12, 'min_samples_leaf': 2}. Best is trial 65 with value: 0.7115497156266393.\n",
      "[I 2024-07-01 15:24:46,550] Trial 85 finished with value: 0.7110527874499172 and parameters: {'n_estimators': 250, 'max_depth': 9, 'min_samples_split': 9, 'min_samples_leaf': 3}. Best is trial 65 with value: 0.7115497156266393.\n",
      "[I 2024-07-01 15:24:52,782] Trial 86 finished with value: 0.7110386946276431 and parameters: {'n_estimators': 200, 'max_depth': 8, 'min_samples_split': 10, 'min_samples_leaf': 2}. Best is trial 65 with value: 0.7115497156266393.\n",
      "[I 2024-07-01 15:25:02,366] Trial 87 finished with value: 0.7107505956447924 and parameters: {'n_estimators': 300, 'max_depth': 9, 'min_samples_split': 11, 'min_samples_leaf': 1}. Best is trial 65 with value: 0.7115497156266393.\n",
      "[I 2024-07-01 15:25:10,147] Trial 88 finished with value: 0.7070550116884324 and parameters: {'n_estimators': 250, 'max_depth': 9, 'min_samples_split': 13, 'min_samples_leaf': 10}. Best is trial 65 with value: 0.7115497156266393.\n",
      "[I 2024-07-01 15:25:17,899] Trial 89 finished with value: 0.7101286076870746 and parameters: {'n_estimators': 250, 'max_depth': 9, 'min_samples_split': 12, 'min_samples_leaf': 4}. Best is trial 65 with value: 0.7115497156266393.\n",
      "[I 2024-07-01 15:25:25,698] Trial 90 finished with value: 0.6976449628163349 and parameters: {'n_estimators': 300, 'max_depth': 5, 'min_samples_split': 11, 'min_samples_leaf': 2}. Best is trial 65 with value: 0.7115497156266393.\n",
      "[I 2024-07-01 15:25:33,542] Trial 91 finished with value: 0.7114310023952812 and parameters: {'n_estimators': 250, 'max_depth': 9, 'min_samples_split': 11, 'min_samples_leaf': 2}. Best is trial 65 with value: 0.7115497156266393.\n",
      "[I 2024-07-01 15:25:41,858] Trial 92 finished with value: 0.7115034854305343 and parameters: {'n_estimators': 250, 'max_depth': 9, 'min_samples_split': 10, 'min_samples_leaf': 2}. Best is trial 65 with value: 0.7115497156266393.\n",
      "[I 2024-07-01 15:25:49,877] Trial 93 finished with value: 0.7115034854305343 and parameters: {'n_estimators': 250, 'max_depth': 9, 'min_samples_split': 10, 'min_samples_leaf': 2}. Best is trial 65 with value: 0.7115497156266393.\n",
      "[I 2024-07-01 15:25:57,894] Trial 94 finished with value: 0.7109544111459127 and parameters: {'n_estimators': 250, 'max_depth': 10, 'min_samples_split': 10, 'min_samples_leaf': 3}. Best is trial 65 with value: 0.7115497156266393.\n",
      "[I 2024-07-01 15:26:05,806] Trial 95 finished with value: 0.7103486998490384 and parameters: {'n_estimators': 250, 'max_depth': 9, 'min_samples_split': 8, 'min_samples_leaf': 1}. Best is trial 65 with value: 0.7115497156266393.\n",
      "[I 2024-07-01 15:26:13,577] Trial 96 finished with value: 0.7109891797335031 and parameters: {'n_estimators': 250, 'max_depth': 8, 'min_samples_split': 9, 'min_samples_leaf': 2}. Best is trial 65 with value: 0.7115497156266393.\n",
      "[I 2024-07-01 15:26:19,955] Trial 97 finished with value: 0.7114664145125473 and parameters: {'n_estimators': 200, 'max_depth': 9, 'min_samples_split': 10, 'min_samples_leaf': 2}. Best is trial 65 with value: 0.7115497156266393.\n",
      "[I 2024-07-01 15:26:26,770] Trial 98 finished with value: 0.7109196356171785 and parameters: {'n_estimators': 200, 'max_depth': 10, 'min_samples_split': 10, 'min_samples_leaf': 3}. Best is trial 65 with value: 0.7115497156266393.\n",
      "[I 2024-07-01 15:26:32,020] Trial 99 finished with value: 0.7098697436259765 and parameters: {'n_estimators': 150, 'max_depth': 9, 'min_samples_split': 7, 'min_samples_leaf': 1}. Best is trial 65 with value: 0.7115497156266393.\n"
     ]
    },
    {
     "name": "stdout",
     "output_type": "stream",
     "text": [
      "Best R2 Score (Random Forest): 0.6983\n",
      "Best Parameters (Random Forest): {'n_estimators': 300, 'max_depth': 9, 'min_samples_split': 10, 'min_samples_leaf': 2}\n"
     ]
    }
   ],
   "source": [
    "from sklearn.ensemble import RandomForestRegressor\n",
    "\n",
    "def objective(trial):\n",
    "    params = {\n",
    "        'n_estimators': trial.suggest_int('n_estimators', 50, 300, step=50),\n",
    "        'max_depth': trial.suggest_int('max_depth', 3, 10),\n",
    "        'min_samples_split': trial.suggest_int('min_samples_split', 2, 20),\n",
    "        'min_samples_leaf': trial.suggest_int('min_samples_leaf', 1, 10)\n",
    "    }\n",
    "    \n",
    "    model = RandomForestRegressor(**params, random_state=42)\n",
    "    scores = cross_val_score(model, X_train_processed, y_train, cv=5, scoring='r2')\n",
    "    return scores.mean()\n",
    "\n",
    "study_rf = optuna.create_study(direction='maximize')\n",
    "study_rf.optimize(objective, n_trials=100)\n",
    "\n",
    "best_params_rf = study_rf.best_params\n",
    "best_rf = RandomForestRegressor(**best_params_rf, random_state=42)\n",
    "best_rf.fit(X_train_processed, y_train)\n",
    "y_pred_rf = best_rf.predict(X_test_processed)\n",
    "r2_rf = r2_score(y_test, y_pred_rf)\n",
    "\n",
    "print(f\"Best R2 Score (Random Forest): {r2_rf:.4f}\")\n",
    "print(f\"Best Parameters (Random Forest): {best_params_rf}\")\n"
   ]
  },
  {
   "cell_type": "markdown",
   "metadata": {},
   "source": [
    "XGB REGRESSOR WITH OPTUNA"
   ]
  },
  {
   "cell_type": "code",
   "execution_count": null,
   "metadata": {},
   "outputs": [
    {
     "name": "stderr",
     "output_type": "stream",
     "text": [
      "[I 2024-07-01 15:27:17,551] A new study created in memory with name: no-name-5b8f2627-6b14-4d1f-8278-3ae61362ce0a\n",
      "[I 2024-07-01 15:27:19,530] Trial 0 finished with value: 0.7086060465958661 and parameters: {'n_estimators': 250, 'learning_rate': 0.010148126551370833, 'max_depth': 6, 'min_child_weight': 5, 'subsample': 0.709017931691833, 'colsample_bytree': 0.7754098302413961}. Best is trial 0 with value: 0.7086060465958661.\n",
      "[I 2024-07-01 15:27:20,930] Trial 1 finished with value: 0.697531602211649 and parameters: {'n_estimators': 150, 'learning_rate': 0.09163968955694315, 'max_depth': 8, 'min_child_weight': 6, 'subsample': 0.6977079509012625, 'colsample_bytree': 0.8766998939587304}. Best is trial 0 with value: 0.7086060465958661.\n",
      "[I 2024-07-01 15:27:23,685] Trial 2 finished with value: 0.7029696363746062 and parameters: {'n_estimators': 300, 'learning_rate': 0.04939217424650557, 'max_depth': 9, 'min_child_weight': 10, 'subsample': 0.5056329582393155, 'colsample_bytree': 0.9669523632127572}. Best is trial 0 with value: 0.7086060465958661.\n",
      "[I 2024-07-01 15:27:24,781] Trial 3 finished with value: 0.6813543032771662 and parameters: {'n_estimators': 150, 'learning_rate': 0.011792152053104347, 'max_depth': 5, 'min_child_weight': 9, 'subsample': 0.7161746528191919, 'colsample_bytree': 0.8219670800939274}. Best is trial 0 with value: 0.7086060465958661.\n",
      "[I 2024-07-01 15:27:25,902] Trial 4 finished with value: 0.7118025282844572 and parameters: {'n_estimators': 100, 'learning_rate': 0.027269113133311554, 'max_depth': 7, 'min_child_weight': 4, 'subsample': 0.7806778652729791, 'colsample_bytree': 0.8911723027714629}. Best is trial 4 with value: 0.7118025282844572.\n",
      "[I 2024-07-01 15:27:27,501] Trial 5 finished with value: 0.7081364290766555 and parameters: {'n_estimators': 150, 'learning_rate': 0.052922326999972576, 'max_depth': 8, 'min_child_weight': 8, 'subsample': 0.9540915176187694, 'colsample_bytree': 0.9290221823531426}. Best is trial 4 with value: 0.7118025282844572.\n",
      "[I 2024-07-01 15:27:30,992] Trial 6 finished with value: 0.6987526210677247 and parameters: {'n_estimators': 300, 'learning_rate': 0.05016898479748117, 'max_depth': 8, 'min_child_weight': 1, 'subsample': 0.6473756101363738, 'colsample_bytree': 0.5536600883984564}. Best is trial 4 with value: 0.7118025282844572.\n",
      "[I 2024-07-01 15:27:31,818] Trial 7 finished with value: 0.709047447431127 and parameters: {'n_estimators': 100, 'learning_rate': 0.04164506074029357, 'max_depth': 4, 'min_child_weight': 7, 'subsample': 0.6404528210332332, 'colsample_bytree': 0.6685485174699426}. Best is trial 4 with value: 0.7118025282844572.\n",
      "[I 2024-07-01 15:27:32,329] Trial 8 finished with value: 0.7043363165149794 and parameters: {'n_estimators': 50, 'learning_rate': 0.08303423893662366, 'max_depth': 3, 'min_child_weight': 2, 'subsample': 0.5476733677209737, 'colsample_bytree': 0.7278550940625115}. Best is trial 4 with value: 0.7118025282844572.\n",
      "[I 2024-07-01 15:27:35,159] Trial 9 finished with value: 0.6915461215202392 and parameters: {'n_estimators': 250, 'learning_rate': 0.08251062966996012, 'max_depth': 8, 'min_child_weight': 6, 'subsample': 0.5108791816031399, 'colsample_bytree': 0.9364306088355316}. Best is trial 4 with value: 0.7118025282844572.\n",
      "[I 2024-07-01 15:27:36,289] Trial 10 finished with value: 0.6705842422514469 and parameters: {'n_estimators': 50, 'learning_rate': 0.03236114902218889, 'max_depth': 10, 'min_child_weight': 3, 'subsample': 0.8604382544498168, 'colsample_bytree': 0.6443112503212434}. Best is trial 4 with value: 0.7118025282844572.\n",
      "[I 2024-07-01 15:27:37,389] Trial 11 finished with value: 0.7043030302523736 and parameters: {'n_estimators': 100, 'learning_rate': 0.030877461945654636, 'max_depth': 4, 'min_child_weight': 4, 'subsample': 0.8294992417428266, 'colsample_bytree': 0.6689615729531861}. Best is trial 4 with value: 0.7118025282844572.\n",
      "[I 2024-07-01 15:27:38,652] Trial 12 finished with value: 0.7088780028898969 and parameters: {'n_estimators': 100, 'learning_rate': 0.03340699867585679, 'max_depth': 6, 'min_child_weight': 7, 'subsample': 0.617189572277038, 'colsample_bytree': 0.5274299347405405}. Best is trial 4 with value: 0.7118025282844572.\n",
      "[I 2024-07-01 15:27:39,650] Trial 13 finished with value: 0.7086683432613864 and parameters: {'n_estimators': 100, 'learning_rate': 0.06653406494645422, 'max_depth': 3, 'min_child_weight': 4, 'subsample': 0.813861984418765, 'colsample_bytree': 0.6175397141881008}. Best is trial 4 with value: 0.7118025282844572.\n",
      "[I 2024-07-01 15:27:41,778] Trial 14 finished with value: 0.713719036584583 and parameters: {'n_estimators': 200, 'learning_rate': 0.024761875346731962, 'max_depth': 5, 'min_child_weight': 7, 'subsample': 0.7690000148787288, 'colsample_bytree': 0.7238346614910858}. Best is trial 14 with value: 0.713719036584583.\n",
      "[I 2024-07-01 15:27:44,662] Trial 15 finished with value: 0.7147223854568626 and parameters: {'n_estimators': 200, 'learning_rate': 0.017775925492725497, 'max_depth': 7, 'min_child_weight': 5, 'subsample': 0.9081737976167088, 'colsample_bytree': 0.8463892825483913}. Best is trial 15 with value: 0.7147223854568626.\n",
      "[I 2024-07-01 15:27:46,718] Trial 16 finished with value: 0.7151542959638062 and parameters: {'n_estimators': 200, 'learning_rate': 0.021326304399998913, 'max_depth': 5, 'min_child_weight': 8, 'subsample': 0.9994792508784756, 'colsample_bytree': 0.7852051591290002}. Best is trial 16 with value: 0.7151542959638062.\n",
      "[I 2024-07-01 15:27:48,679] Trial 17 finished with value: 0.7146405649087055 and parameters: {'n_estimators': 200, 'learning_rate': 0.01884499816510608, 'max_depth': 5, 'min_child_weight': 10, 'subsample': 0.9914178979513342, 'colsample_bytree': 0.8336410133725144}. Best is trial 16 with value: 0.7151542959638062.\n",
      "[I 2024-07-01 15:27:51,445] Trial 18 finished with value: 0.7038302528428928 and parameters: {'n_estimators': 250, 'learning_rate': 0.06076012448145902, 'max_depth': 7, 'min_child_weight': 8, 'subsample': 0.9294172963854723, 'colsample_bytree': 0.7884440813574187}. Best is trial 16 with value: 0.7151542959638062.\n",
      "[I 2024-07-01 15:27:53,626] Trial 19 finished with value: 0.7130092789546909 and parameters: {'n_estimators': 200, 'learning_rate': 0.039586781736636975, 'max_depth': 6, 'min_child_weight': 5, 'subsample': 0.8931888209513396, 'colsample_bytree': 0.8454960484683515}. Best is trial 16 with value: 0.7151542959638062.\n",
      "[I 2024-07-01 15:27:55,758] Trial 20 finished with value: 0.7104499986540767 and parameters: {'n_estimators': 250, 'learning_rate': 0.017568137405283707, 'max_depth': 4, 'min_child_weight': 8, 'subsample': 0.991152406612683, 'colsample_bytree': 0.998782828620455}. Best is trial 16 with value: 0.7151542959638062.\n",
      "[I 2024-07-01 15:27:57,726] Trial 21 finished with value: 0.7146699220582342 and parameters: {'n_estimators': 200, 'learning_rate': 0.0200403372714262, 'max_depth': 5, 'min_child_weight': 10, 'subsample': 0.9978292309728196, 'colsample_bytree': 0.8326334993219896}. Best is trial 16 with value: 0.7151542959638062.\n",
      "[I 2024-07-01 15:27:59,708] Trial 22 finished with value: 0.7138057192101601 and parameters: {'n_estimators': 200, 'learning_rate': 0.018381438937599977, 'max_depth': 5, 'min_child_weight': 9, 'subsample': 0.9282107197504829, 'colsample_bytree': 0.7681283728955218}. Best is trial 16 with value: 0.7151542959638062.\n",
      "[I 2024-07-01 15:28:02,275] Trial 23 finished with value: 0.71373667076895 and parameters: {'n_estimators': 200, 'learning_rate': 0.02253777060494529, 'max_depth': 7, 'min_child_weight': 9, 'subsample': 0.9992337502550288, 'colsample_bytree': 0.8765039406613149}. Best is trial 16 with value: 0.7151542959638062.\n",
      "[I 2024-07-01 15:28:03,991] Trial 24 finished with value: 0.7141493147700351 and parameters: {'n_estimators': 150, 'learning_rate': 0.04161501183647307, 'max_depth': 6, 'min_child_weight': 10, 'subsample': 0.8911899808289083, 'colsample_bytree': 0.7096776725008177}. Best is trial 16 with value: 0.7151542959638062.\n",
      "[I 2024-07-01 15:28:06,069] Trial 25 finished with value: 0.7019163348154935 and parameters: {'n_estimators': 250, 'learning_rate': 0.011110160965751199, 'max_depth': 4, 'min_child_weight': 9, 'subsample': 0.9510044662582344, 'colsample_bytree': 0.8047900925929015}. Best is trial 16 with value: 0.7151542959638062.\n",
      "[I 2024-07-01 15:28:08,007] Trial 26 finished with value: 0.7137298910367045 and parameters: {'n_estimators': 200, 'learning_rate': 0.03591636347447986, 'max_depth': 5, 'min_child_weight': 6, 'subsample': 0.8889935309849558, 'colsample_bytree': 0.8440820473271107}. Best is trial 16 with value: 0.7151542959638062.\n",
      "[I 2024-07-01 15:28:10,177] Trial 27 finished with value: 0.7138981603665109 and parameters: {'n_estimators': 150, 'learning_rate': 0.023887133198196867, 'max_depth': 7, 'min_child_weight': 8, 'subsample': 0.9576090103398515, 'colsample_bytree': 0.909123590643387}. Best is trial 16 with value: 0.7151542959638062.\n",
      "[I 2024-07-01 15:28:12,982] Trial 28 finished with value: 0.716185371467275 and parameters: {'n_estimators': 250, 'learning_rate': 0.017283381460877892, 'max_depth': 6, 'min_child_weight': 10, 'subsample': 0.9244801499678063, 'colsample_bytree': 0.7524603504397918}. Best is trial 28 with value: 0.716185371467275.\n",
      "[I 2024-07-01 15:28:15,957] Trial 29 finished with value: 0.7091965280348143 and parameters: {'n_estimators': 250, 'learning_rate': 0.010567393988376916, 'max_depth': 6, 'min_child_weight': 5, 'subsample': 0.8398704991388847, 'colsample_bytree': 0.7619357093301876}. Best is trial 28 with value: 0.716185371467275.\n",
      "[I 2024-07-01 15:28:21,406] Trial 30 finished with value: 0.6777512390905883 and parameters: {'n_estimators': 300, 'learning_rate': 0.07101864930096326, 'max_depth': 9, 'min_child_weight': 3, 'subsample': 0.9150407398376432, 'colsample_bytree': 0.7461203896603852}. Best is trial 28 with value: 0.716185371467275.\n",
      "[I 2024-07-01 15:28:23,822] Trial 31 finished with value: 0.7146417081020501 and parameters: {'n_estimators': 200, 'learning_rate': 0.01748531322728199, 'max_depth': 6, 'min_child_weight': 10, 'subsample': 0.9766921444431194, 'colsample_bytree': 0.7915934306819866}. Best is trial 28 with value: 0.716185371467275.\n",
      "[I 2024-07-01 15:28:26,319] Trial 32 finished with value: 0.7149568557232181 and parameters: {'n_estimators': 250, 'learning_rate': 0.02818806560998901, 'max_depth': 5, 'min_child_weight': 9, 'subsample': 0.9559822815388678, 'colsample_bytree': 0.8605537523689951}. Best is trial 28 with value: 0.716185371467275.\n",
      "[I 2024-07-01 15:28:29,040] Trial 33 finished with value: 0.7147658674175508 and parameters: {'n_estimators': 250, 'learning_rate': 0.026336260081388316, 'max_depth': 6, 'min_child_weight': 9, 'subsample': 0.8700358945498149, 'colsample_bytree': 0.8666784441493193}. Best is trial 28 with value: 0.716185371467275.\n",
      "[I 2024-07-01 15:28:31,727] Trial 34 finished with value: 0.714188517258164 and parameters: {'n_estimators': 250, 'learning_rate': 0.02790329927259915, 'max_depth': 6, 'min_child_weight': 9, 'subsample': 0.8574615859477582, 'colsample_bytree': 0.8807670761958983}. Best is trial 28 with value: 0.716185371467275.\n",
      "[I 2024-07-01 15:28:34,463] Trial 35 finished with value: 0.7104069080825121 and parameters: {'n_estimators': 300, 'learning_rate': 0.04610393670110995, 'max_depth': 5, 'min_child_weight': 9, 'subsample': 0.9500547272200047, 'colsample_bytree': 0.6942307333584886}. Best is trial 28 with value: 0.716185371467275.\n",
      "[I 2024-07-01 15:28:36,923] Trial 36 finished with value: 0.7107313112250656 and parameters: {'n_estimators': 300, 'learning_rate': 0.02836299183943706, 'max_depth': 4, 'min_child_weight': 7, 'subsample': 0.795340429534946, 'colsample_bytree': 0.865942523068919}. Best is trial 28 with value: 0.716185371467275.\n",
      "[I 2024-07-01 15:28:39,282] Trial 37 finished with value: 0.7132057457460935 and parameters: {'n_estimators': 250, 'learning_rate': 0.037003140788329274, 'max_depth': 5, 'min_child_weight': 8, 'subsample': 0.8700149615762732, 'colsample_bytree': 0.8058790201703772}. Best is trial 28 with value: 0.716185371467275.\n",
      "[I 2024-07-01 15:28:41,959] Trial 38 finished with value: 0.7114678004132815 and parameters: {'n_estimators': 250, 'learning_rate': 0.045810394552942495, 'max_depth': 6, 'min_child_weight': 10, 'subsample': 0.9702475218158854, 'colsample_bytree': 0.9172919983911233}. Best is trial 28 with value: 0.716185371467275.\n",
      "[I 2024-07-01 15:28:45,519] Trial 39 finished with value: 0.7152341403505779 and parameters: {'n_estimators': 300, 'learning_rate': 0.013653477274076445, 'max_depth': 7, 'min_child_weight': 8, 'subsample': 0.7108289322979521, 'colsample_bytree': 0.5941887905514893}. Best is trial 28 with value: 0.716185371467275.\n",
      "[I 2024-07-01 15:28:49,299] Trial 40 finished with value: 0.7157856735086827 and parameters: {'n_estimators': 300, 'learning_rate': 0.01383690181159551, 'max_depth': 8, 'min_child_weight': 8, 'subsample': 0.6552669615191911, 'colsample_bytree': 0.6006702640272564}. Best is trial 28 with value: 0.716185371467275.\n",
      "[I 2024-07-01 15:28:53,827] Trial 41 finished with value: 0.7153035919543866 and parameters: {'n_estimators': 300, 'learning_rate': 0.014015247161801641, 'max_depth': 9, 'min_child_weight': 8, 'subsample': 0.7252375932351549, 'colsample_bytree': 0.5911836407142813}. Best is trial 28 with value: 0.716185371467275.\n",
      "[I 2024-07-01 15:28:57,978] Trial 42 finished with value: 0.7159926823753061 and parameters: {'n_estimators': 300, 'learning_rate': 0.014002575656240131, 'max_depth': 9, 'min_child_weight': 7, 'subsample': 0.7245637898541003, 'colsample_bytree': 0.5824658896344225}. Best is trial 28 with value: 0.716185371467275.\n",
      "[I 2024-07-01 15:29:02,209] Trial 43 finished with value: 0.716026751545812 and parameters: {'n_estimators': 300, 'learning_rate': 0.014076559235342914, 'max_depth': 9, 'min_child_weight': 7, 'subsample': 0.7231831691137723, 'colsample_bytree': 0.591679729071535}. Best is trial 28 with value: 0.716185371467275.\n",
      "[I 2024-07-01 15:29:06,471] Trial 44 finished with value: 0.7160173953403233 and parameters: {'n_estimators': 300, 'learning_rate': 0.01368266063090414, 'max_depth': 9, 'min_child_weight': 7, 'subsample': 0.7297193690744264, 'colsample_bytree': 0.574268283259628}. Best is trial 28 with value: 0.716185371467275.\n",
      "[I 2024-07-01 15:29:11,037] Trial 45 finished with value: 0.7148532065102556 and parameters: {'n_estimators': 300, 'learning_rate': 0.014202856434121013, 'max_depth': 10, 'min_child_weight': 6, 'subsample': 0.6759712142643008, 'colsample_bytree': 0.514882318156718}. Best is trial 28 with value: 0.716185371467275.\n",
      "[I 2024-07-01 15:29:15,407] Trial 46 finished with value: 0.6850713373111214 and parameters: {'n_estimators': 300, 'learning_rate': 0.09843244683803153, 'max_depth': 9, 'min_child_weight': 7, 'subsample': 0.7407759689930214, 'colsample_bytree': 0.5550828523724317}. Best is trial 28 with value: 0.716185371467275.\n",
      "[I 2024-07-01 15:29:19,487] Trial 47 finished with value: 0.7161476163009765 and parameters: {'n_estimators': 300, 'learning_rate': 0.014334650117950038, 'max_depth': 8, 'min_child_weight': 7, 'subsample': 0.6728533983830235, 'colsample_bytree': 0.5678188120868299}. Best is trial 28 with value: 0.716185371467275.\n",
      "[I 2024-07-01 15:29:24,100] Trial 48 finished with value: 0.7167154132593884 and parameters: {'n_estimators': 300, 'learning_rate': 0.01543793152494427, 'max_depth': 10, 'min_child_weight': 6, 'subsample': 0.6833902975738065, 'colsample_bytree': 0.5541731154277095}. Best is trial 48 with value: 0.7167154132593884.\n",
      "[I 2024-07-01 15:29:28,847] Trial 49 finished with value: 0.71069929985508 and parameters: {'n_estimators': 300, 'learning_rate': 0.010282836525256352, 'max_depth': 10, 'min_child_weight': 6, 'subsample': 0.5913510268029061, 'colsample_bytree': 0.5429414331769775}. Best is trial 48 with value: 0.7167154132593884.\n",
      "[I 2024-07-01 15:29:32,763] Trial 50 finished with value: 0.7137450209234159 and parameters: {'n_estimators': 300, 'learning_rate': 0.023324818619808722, 'max_depth': 8, 'min_child_weight': 6, 'subsample': 0.68619880714279, 'colsample_bytree': 0.6342447641747467}. Best is trial 48 with value: 0.7167154132593884.\n",
      "[I 2024-07-01 15:29:36,963] Trial 51 finished with value: 0.7159598303704366 and parameters: {'n_estimators': 300, 'learning_rate': 0.015477382113071824, 'max_depth': 9, 'min_child_weight': 7, 'subsample': 0.7553401634087674, 'colsample_bytree': 0.5737301234786886}. Best is trial 48 with value: 0.7167154132593884.\n",
      "[I 2024-07-01 15:29:41,140] Trial 52 finished with value: 0.7153987874958283 and parameters: {'n_estimators': 300, 'learning_rate': 0.01582888837003641, 'max_depth': 10, 'min_child_weight': 7, 'subsample': 0.6201028569209064, 'colsample_bytree': 0.5047575053035498}. Best is trial 48 with value: 0.7167154132593884.\n",
      "[I 2024-07-01 15:29:45,362] Trial 53 finished with value: 0.7148560992820764 and parameters: {'n_estimators': 300, 'learning_rate': 0.02111279978694776, 'max_depth': 9, 'min_child_weight': 6, 'subsample': 0.7318193281950818, 'colsample_bytree': 0.569226077912438}. Best is trial 48 with value: 0.7167154132593884.\n",
      "[I 2024-07-01 15:29:49,134] Trial 54 finished with value: 0.7105687177205466 and parameters: {'n_estimators': 300, 'learning_rate': 0.03081587897927098, 'max_depth': 8, 'min_child_weight': 7, 'subsample': 0.7042209742303595, 'colsample_bytree': 0.6711044281963386}. Best is trial 48 with value: 0.7167154132593884.\n",
      "[I 2024-07-01 15:29:53,528] Trial 55 finished with value: 0.7113780178601136 and parameters: {'n_estimators': 300, 'learning_rate': 0.01015413359354721, 'max_depth': 9, 'min_child_weight': 4, 'subsample': 0.6677175034261483, 'colsample_bytree': 0.5295394319685751}. Best is trial 48 with value: 0.7167154132593884.\n",
      "[I 2024-07-01 15:29:58,926] Trial 56 finished with value: 0.7131586245371688 and parameters: {'n_estimators': 250, 'learning_rate': 0.020873867584127192, 'max_depth': 10, 'min_child_weight': 1, 'subsample': 0.7614531269543404, 'colsample_bytree': 0.6157134219328074}. Best is trial 48 with value: 0.7167154132593884.\n",
      "[I 2024-07-01 15:30:03,433] Trial 57 finished with value: 0.6865923902864338 and parameters: {'n_estimators': 300, 'learning_rate': 0.07827028141228473, 'max_depth': 9, 'min_child_weight': 5, 'subsample': 0.6897939599891472, 'colsample_bytree': 0.6450423405262083}. Best is trial 48 with value: 0.7167154132593884.\n",
      "[I 2024-07-01 15:30:07,359] Trial 58 finished with value: 0.7166652017753612 and parameters: {'n_estimators': 250, 'learning_rate': 0.01792210190500251, 'max_depth': 10, 'min_child_weight': 7, 'subsample': 0.7961212099428165, 'colsample_bytree': 0.5687140698224691}. Best is trial 48 with value: 0.7167154132593884.\n",
      "[I 2024-07-01 15:30:11,375] Trial 59 finished with value: 0.7005226411852442 and parameters: {'n_estimators': 250, 'learning_rate': 0.05521036835422335, 'max_depth': 10, 'min_child_weight': 5, 'subsample': 0.7917919030208651, 'colsample_bytree': 0.5457422869415242}. Best is trial 48 with value: 0.7167154132593884.\n",
      "[I 2024-07-01 15:30:15,358] Trial 60 finished with value: 0.7151740643358402 and parameters: {'n_estimators': 250, 'learning_rate': 0.024411903975158935, 'max_depth': 10, 'min_child_weight': 6, 'subsample': 0.6287477243033492, 'colsample_bytree': 0.5649087345987442}. Best is trial 48 with value: 0.7167154132593884.\n",
      "[I 2024-07-01 15:30:20,140] Trial 61 finished with value: 0.7163922851038572 and parameters: {'n_estimators': 300, 'learning_rate': 0.01788679599458806, 'max_depth': 9, 'min_child_weight': 7, 'subsample': 0.7767281277742082, 'colsample_bytree': 0.5818383119066451}. Best is trial 48 with value: 0.7167154132593884.\n",
      "[I 2024-07-01 15:30:24,265] Trial 62 finished with value: 0.715908246357339 and parameters: {'n_estimators': 300, 'learning_rate': 0.01764063856282083, 'max_depth': 8, 'min_child_weight': 7, 'subsample': 0.7724911991493132, 'colsample_bytree': 0.6140880850058186}. Best is trial 48 with value: 0.7167154132593884.\n",
      "[I 2024-07-01 15:30:28,973] Trial 63 finished with value: 0.7138278367655483 and parameters: {'n_estimators': 300, 'learning_rate': 0.020813000452425838, 'max_depth': 10, 'min_child_weight': 6, 'subsample': 0.8153486711113799, 'colsample_bytree': 0.5317278759235433}. Best is trial 48 with value: 0.7167154132593884.\n",
      "[I 2024-07-01 15:30:33,179] Trial 64 finished with value: 0.7156857345918237 and parameters: {'n_estimators': 300, 'learning_rate': 0.018426107011068824, 'max_depth': 9, 'min_child_weight': 7, 'subsample': 0.5953286764112176, 'colsample_bytree': 0.5541504395307039}. Best is trial 48 with value: 0.7167154132593884.\n",
      "[I 2024-07-01 15:30:36,455] Trial 65 finished with value: 0.712125024570315 and parameters: {'n_estimators': 250, 'learning_rate': 0.03154424217336695, 'max_depth': 8, 'min_child_weight': 8, 'subsample': 0.6572211732762447, 'colsample_bytree': 0.6281002057972164}. Best is trial 48 with value: 0.7167154132593884.\n",
      "[I 2024-07-01 15:30:37,638] Trial 66 finished with value: 0.6390231365837712 and parameters: {'n_estimators': 50, 'learning_rate': 0.025697767092803837, 'max_depth': 10, 'min_child_weight': 7, 'subsample': 0.7854122492460244, 'colsample_bytree': 0.654695155605715}. Best is trial 48 with value: 0.7167154132593884.\n",
      "[I 2024-07-01 15:30:41,208] Trial 67 finished with value: 0.7135032350288248 and parameters: {'n_estimators': 250, 'learning_rate': 0.013028918669654832, 'max_depth': 8, 'min_child_weight': 6, 'subsample': 0.7386876131940395, 'colsample_bytree': 0.6011271734108788}. Best is trial 48 with value: 0.7167154132593884.\n",
      "[I 2024-07-01 15:30:45,204] Trial 68 finished with value: 0.7158921109312549 and parameters: {'n_estimators': 300, 'learning_rate': 0.016197930055897914, 'max_depth': 9, 'min_child_weight': 7, 'subsample': 0.6989099722507712, 'colsample_bytree': 0.5175893732125699}. Best is trial 48 with value: 0.7167154132593884.\n",
      "[I 2024-07-01 15:30:49,836] Trial 69 finished with value: 0.7126967880984032 and parameters: {'n_estimators': 250, 'learning_rate': 0.02000209020679961, 'max_depth': 10, 'min_child_weight': 4, 'subsample': 0.8116375114435151, 'colsample_bytree': 0.7372833156992524}. Best is trial 48 with value: 0.7167154132593884.\n",
      "[I 2024-07-01 15:30:54,103] Trial 70 finished with value: 0.7129273691367178 and parameters: {'n_estimators': 300, 'learning_rate': 0.02387933385654763, 'max_depth': 9, 'min_child_weight': 8, 'subsample': 0.7170534363746184, 'colsample_bytree': 0.6932799380585457}. Best is trial 48 with value: 0.7167154132593884.\n",
      "[I 2024-07-01 15:30:58,252] Trial 71 finished with value: 0.715336165804573 and parameters: {'n_estimators': 300, 'learning_rate': 0.01288521827232104, 'max_depth': 9, 'min_child_weight': 7, 'subsample': 0.6766268279851498, 'colsample_bytree': 0.5831661277952281}. Best is trial 48 with value: 0.7167154132593884.\n",
      "[I 2024-07-01 15:31:02,179] Trial 72 finished with value: 0.716161852087773 and parameters: {'n_estimators': 300, 'learning_rate': 0.016321882395062975, 'max_depth': 8, 'min_child_weight': 6, 'subsample': 0.7171448640590667, 'colsample_bytree': 0.5796124643086709}. Best is trial 48 with value: 0.7167154132593884.\n",
      "[I 2024-07-01 15:31:06,235] Trial 73 finished with value: 0.7161873139278716 and parameters: {'n_estimators': 300, 'learning_rate': 0.016381543837386582, 'max_depth': 8, 'min_child_weight': 6, 'subsample': 0.7567699892702966, 'colsample_bytree': 0.5399043431173278}. Best is trial 48 with value: 0.7167154132593884.\n",
      "[I 2024-07-01 15:31:10,234] Trial 74 finished with value: 0.7163684069208335 and parameters: {'n_estimators': 300, 'learning_rate': 0.01709686258826055, 'max_depth': 8, 'min_child_weight': 6, 'subsample': 0.7537788068628105, 'colsample_bytree': 0.5426842109056078}. Best is trial 48 with value: 0.7167154132593884.\n",
      "[I 2024-07-01 15:31:13,550] Trial 75 finished with value: 0.7164674051708283 and parameters: {'n_estimators': 250, 'learning_rate': 0.017935520499386296, 'max_depth': 8, 'min_child_weight': 5, 'subsample': 0.7489847583918425, 'colsample_bytree': 0.5411760922322095}. Best is trial 48 with value: 0.7167154132593884.\n",
      "[I 2024-07-01 15:31:16,533] Trial 76 finished with value: 0.7143527358407976 and parameters: {'n_estimators': 250, 'learning_rate': 0.02940458697344208, 'max_depth': 7, 'min_child_weight': 5, 'subsample': 0.749426460640672, 'colsample_bytree': 0.5046477679694048}. Best is trial 48 with value: 0.7167154132593884.\n",
      "[I 2024-07-01 15:31:19,569] Trial 77 finished with value: 0.7163052983078834 and parameters: {'n_estimators': 250, 'learning_rate': 0.02237678614746616, 'max_depth': 7, 'min_child_weight': 5, 'subsample': 0.775553680343439, 'colsample_bytree': 0.5382162643435786}. Best is trial 48 with value: 0.7167154132593884.\n",
      "[I 2024-07-01 15:31:22,580] Trial 78 finished with value: 0.71608390360306 and parameters: {'n_estimators': 250, 'learning_rate': 0.022326027407535778, 'max_depth': 7, 'min_child_weight': 5, 'subsample': 0.8022916080369933, 'colsample_bytree': 0.5328943420185114}. Best is trial 48 with value: 0.7167154132593884.\n",
      "[I 2024-07-01 15:31:25,116] Trial 79 finished with value: 0.7164587107926114 and parameters: {'n_estimators': 200, 'learning_rate': 0.026378952184894465, 'max_depth': 7, 'min_child_weight': 4, 'subsample': 0.8466873165445729, 'colsample_bytree': 0.5425463156194724}. Best is trial 48 with value: 0.7167154132593884.\n",
      "[I 2024-07-01 15:31:27,160] Trial 80 finished with value: 0.7156381060991004 and parameters: {'n_estimators': 150, 'learning_rate': 0.026488641275555037, 'max_depth': 7, 'min_child_weight': 4, 'subsample': 0.776074346646514, 'colsample_bytree': 0.5418534446944798}. Best is trial 48 with value: 0.7167154132593884.\n",
      "[I 2024-07-01 15:31:29,715] Trial 81 finished with value: 0.7147142373649833 and parameters: {'n_estimators': 200, 'learning_rate': 0.019558812751547135, 'max_depth': 7, 'min_child_weight': 3, 'subsample': 0.8313642022931571, 'colsample_bytree': 0.517042457720041}. Best is trial 48 with value: 0.7167154132593884.\n",
      "[I 2024-07-01 15:31:32,615] Trial 82 finished with value: 0.7142092708783327 and parameters: {'n_estimators': 200, 'learning_rate': 0.03441184970744399, 'max_depth': 8, 'min_child_weight': 5, 'subsample': 0.8487617344850579, 'colsample_bytree': 0.5612383144772805}. Best is trial 48 with value: 0.7167154132593884.\n",
      "[I 2024-07-01 15:31:35,731] Trial 83 finished with value: 0.7162918888796609 and parameters: {'n_estimators': 250, 'learning_rate': 0.01774158629348087, 'max_depth': 7, 'min_child_weight': 5, 'subsample': 0.7647149331988639, 'colsample_bytree': 0.5448294446168623}. Best is trial 48 with value: 0.7167154132593884.\n",
      "[I 2024-07-01 15:31:38,897] Trial 84 finished with value: 0.7154731819959279 and parameters: {'n_estimators': 250, 'learning_rate': 0.02273232580184651, 'max_depth': 7, 'min_child_weight': 5, 'subsample': 0.7625145654741281, 'colsample_bytree': 0.5438850729807091}. Best is trial 48 with value: 0.7167154132593884.\n",
      "[I 2024-07-01 15:31:41,762] Trial 85 finished with value: 0.7145278768955612 and parameters: {'n_estimators': 200, 'learning_rate': 0.019510580552148517, 'max_depth': 7, 'min_child_weight': 3, 'subsample': 0.8177977521395723, 'colsample_bytree': 0.5221957689575839}. Best is trial 48 with value: 0.7167154132593884.\n",
      "[I 2024-07-01 15:31:45,186] Trial 86 finished with value: 0.7057463559600952 and parameters: {'n_estimators': 250, 'learning_rate': 0.011700872916268208, 'max_depth': 8, 'min_child_weight': 4, 'subsample': 0.7477444436305867, 'colsample_bytree': 0.5006644537706011}. Best is trial 48 with value: 0.7167154132593884.\n",
      "[I 2024-07-01 15:31:48,612] Trial 87 finished with value: 0.7155938565922753 and parameters: {'n_estimators': 250, 'learning_rate': 0.025124312132407914, 'max_depth': 8, 'min_child_weight': 5, 'subsample': 0.7829178392296946, 'colsample_bytree': 0.5523559535372112}. Best is trial 48 with value: 0.7167154132593884.\n",
      "[I 2024-07-01 15:31:50,645] Trial 88 finished with value: 0.706501797372505 and parameters: {'n_estimators': 150, 'learning_rate': 0.018170310296425782, 'max_depth': 7, 'min_child_weight': 6, 'subsample': 0.8052770183458481, 'colsample_bytree': 0.5381233199939481}. Best is trial 48 with value: 0.7167154132593884.\n",
      "[I 2024-07-01 15:31:53,729] Trial 89 finished with value: 0.7140351346849453 and parameters: {'n_estimators': 250, 'learning_rate': 0.029861097892475805, 'max_depth': 7, 'min_child_weight': 4, 'subsample': 0.7678384426919079, 'colsample_bytree': 0.5606444947303393}. Best is trial 48 with value: 0.7167154132593884.\n",
      "[I 2024-07-01 15:31:56,678] Trial 90 finished with value: 0.7154636003891064 and parameters: {'n_estimators': 200, 'learning_rate': 0.022059270312445256, 'max_depth': 8, 'min_child_weight': 5, 'subsample': 0.8270950133915993, 'colsample_bytree': 0.6085373169879856}. Best is trial 48 with value: 0.7167154132593884.\n",
      "[I 2024-07-01 15:31:59,482] Trial 91 finished with value: 0.7160606914934887 and parameters: {'n_estimators': 250, 'learning_rate': 0.01644967934496818, 'max_depth': 6, 'min_child_weight': 6, 'subsample': 0.7960457346435047, 'colsample_bytree': 0.7606840138591234}. Best is trial 48 with value: 0.7167154132593884.\n",
      "[I 2024-07-01 15:32:02,177] Trial 92 finished with value: 0.7150715719540003 and parameters: {'n_estimators': 250, 'learning_rate': 0.01839060193465332, 'max_depth': 6, 'min_child_weight': 5, 'subsample': 0.779890530770814, 'colsample_bytree': 0.5229382246674054}. Best is trial 48 with value: 0.7167154132593884.\n",
      "[I 2024-07-01 15:32:04,910] Trial 93 finished with value: 0.7086273914860127 and parameters: {'n_estimators': 250, 'learning_rate': 0.012222670439697398, 'max_depth': 6, 'min_child_weight': 6, 'subsample': 0.7429557579766072, 'colsample_bytree': 0.5540459934588622}. Best is trial 48 with value: 0.7167154132593884.\n",
      "[I 2024-07-01 15:32:07,977] Trial 94 finished with value: 0.715962205778523 and parameters: {'n_estimators': 250, 'learning_rate': 0.016984589602497494, 'max_depth': 7, 'min_child_weight': 6, 'subsample': 0.7653004076204586, 'colsample_bytree': 0.5349114648102702}. Best is trial 48 with value: 0.7167154132593884.\n",
      "[I 2024-07-01 15:32:10,892] Trial 95 finished with value: 0.7158889974045246 and parameters: {'n_estimators': 200, 'learning_rate': 0.02685654712684102, 'max_depth': 8, 'min_child_weight': 2, 'subsample': 0.7561412459987024, 'colsample_bytree': 0.5139044666411104}. Best is trial 48 with value: 0.7167154132593884.\n",
      "[I 2024-07-01 15:32:13,831] Trial 96 finished with value: 0.7161763266555257 and parameters: {'n_estimators': 250, 'learning_rate': 0.020919449940584436, 'max_depth': 6, 'min_child_weight': 4, 'subsample': 0.9280821880778524, 'colsample_bytree': 0.5839147511865415}. Best is trial 48 with value: 0.7167154132593884.\n",
      "[I 2024-07-01 15:32:17,260] Trial 97 finished with value: 0.7161199382604925 and parameters: {'n_estimators': 250, 'learning_rate': 0.015331948544868156, 'max_depth': 7, 'min_child_weight': 5, 'subsample': 0.8733014979785808, 'colsample_bytree': 0.7174889154808123}. Best is trial 48 with value: 0.7167154132593884.\n",
      "[I 2024-07-01 15:32:21,391] Trial 98 finished with value: 0.7154740338063865 and parameters: {'n_estimators': 300, 'learning_rate': 0.01176991233866692, 'max_depth': 8, 'min_child_weight': 4, 'subsample': 0.9060718122768158, 'colsample_bytree': 0.571618268864607}. Best is trial 48 with value: 0.7167154132593884.\n",
      "[I 2024-07-01 15:32:24,758] Trial 99 finished with value: 0.7165154137362147 and parameters: {'n_estimators': 200, 'learning_rate': 0.023619023435976903, 'max_depth': 10, 'min_child_weight': 5, 'subsample': 0.7906630638139698, 'colsample_bytree': 0.5482220018441297}. Best is trial 48 with value: 0.7167154132593884.\n"
     ]
    },
    {
     "name": "stdout",
     "output_type": "stream",
     "text": [
      "Best R2 Score (XGBoost): 0.7055\n",
      "Best Parameters (XGBoost): {'n_estimators': 300, 'learning_rate': 0.01543793152494427, 'max_depth': 10, 'min_child_weight': 6, 'subsample': 0.6833902975738065, 'colsample_bytree': 0.5541731154277095}\n"
     ]
    }
   ],
   "source": [
    "import xgboost as xgb\n",
    "\n",
    "def objective(trial):\n",
    "    params = {\n",
    "        'n_estimators': trial.suggest_int('n_estimators', 50, 300, step=50),\n",
    "        'learning_rate': trial.suggest_float('learning_rate', 0.01, 0.1),\n",
    "        'max_depth': trial.suggest_int('max_depth', 3, 10),\n",
    "        'min_child_weight': trial.suggest_int('min_child_weight', 1, 10),\n",
    "        'subsample': trial.suggest_float('subsample', 0.5, 1.0),\n",
    "        'colsample_bytree': trial.suggest_float('colsample_bytree', 0.5, 1.0)\n",
    "    }\n",
    "    \n",
    "    model = xgb.XGBRegressor(**params, random_state=42)\n",
    "    scores = cross_val_score(model, X_train_processed, y_train, cv=5, scoring='r2')\n",
    "    return scores.mean()\n",
    "\n",
    "study_xgb = optuna.create_study(direction='maximize')\n",
    "study_xgb.optimize(objective, n_trials=100)\n",
    "\n",
    "best_params_xgb = study_xgb.best_params\n",
    "best_xgb = xgb.XGBRegressor(**best_params_xgb, random_state=42)\n",
    "best_xgb.fit(X_train_processed, y_train)\n",
    "y_pred_xgb = best_xgb.predict(X_test_processed)\n",
    "r2_xgb = r2_score(y_test, y_pred_xgb)\n",
    "\n",
    "print(f\"Best R2 Score (XGBoost): {r2_xgb:.4f}\")\n",
    "print(f\"Best Parameters (XGBoost): {best_params_xgb}\")\n"
   ]
  },
  {
   "cell_type": "markdown",
   "metadata": {},
   "source": [
    "COMPARISON OF R2 SCORES OF DIFFERENT MODELS"
   ]
  },
  {
   "cell_type": "code",
   "execution_count": null,
   "metadata": {},
   "outputs": [
    {
     "name": "stdout",
     "output_type": "stream",
     "text": [
      "               Model  R2 Score\n",
      "0              Ridge    0.6711\n",
      "1  Gradient Boosting    0.7037\n",
      "2      Random Forest    0.6983\n",
      "3            XGBoost    0.7055\n"
     ]
    }
   ],
   "source": [
    "\n",
    "models = [\"Ridge\",'Gradient Boosting', 'Random Forest', 'XGBoost']\n",
    "r2_scores = [0.6711,0.7037,0.6983, 0.7055]\n",
    "\n",
    "results_df = pd.DataFrame({\n",
    "    'Model': models,\n",
    "    'R2 Score': r2_scores\n",
    "})\n",
    "\n",
    "print(results_df)\n"
   ]
  },
  {
   "cell_type": "markdown",
   "metadata": {},
   "source": [
    "CONCLUSION : FROM THE RESULTS WE CAN SEE THAT XGBOOST REGRESSOR PERFORMS WITH A R2 SCORE OF \"0.7055\" WHICH IS BEST AMONG OTHER MODELS"
   ]
  }
 ],
 "metadata": {
  "kernelspec": {
   "display_name": "Python 3",
   "language": "python",
   "name": "python3"
  },
  "language_info": {
   "codemirror_mode": {
    "name": "ipython",
    "version": 3
   },
   "file_extension": ".py",
   "mimetype": "text/x-python",
   "name": "python",
   "nbconvert_exporter": "python",
   "pygments_lexer": "ipython3",
   "version": "3.12.4"
  }
 },
 "nbformat": 4,
 "nbformat_minor": 2
}
